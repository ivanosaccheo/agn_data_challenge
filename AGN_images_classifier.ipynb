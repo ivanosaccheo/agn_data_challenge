{
 "cells": [
  {
   "cell_type": "code",
   "execution_count": 1,
   "id": "8d0196f3-dd9d-4765-a8f0-54575225ce13",
   "metadata": {
    "execution": {
     "iopub.execute_input": "2023-10-06T12:49:24.781322Z",
     "iopub.status.busy": "2023-10-06T12:49:24.780637Z",
     "iopub.status.idle": "2023-10-06T12:49:27.937788Z",
     "shell.execute_reply": "2023-10-06T12:49:27.937181Z",
     "shell.execute_reply.started": "2023-10-06T12:49:24.781293Z"
    },
    "tags": []
   },
   "outputs": [],
   "source": [
    "import pandas as pd\n",
    "import os\n",
    "import matplotlib.pyplot as plt\n",
    "import numpy as np\n",
    "from sklearn.preprocessing import MinMaxScaler, StandardScaler\n",
    "import copy\n",
    "from torch.utils.data import DataLoader,  TensorDataset\n",
    "from sklearn.utils import shuffle\n",
    "import torch.nn as nn\n",
    "import torch.nn.functional as F\n",
    "import torch\n",
    "from sklearn import linear_model\n",
    "from sklearn import model_selection\n",
    "from sklearn import metrics\n",
    "from sklearn import datasets \n",
    "from sklearn import preprocessing\n",
    "from torchsummary import summary\n",
    "from sklearn.ensemble import RandomForestClassifier\n",
    "from sklearn.model_selection import train_test_split\n",
    "from sklearn.metrics import accuracy_score, f1_score\n",
    "from sklearn.metrics import confusion_matrix, ConfusionMatrixDisplay\n",
    "import dc_library as dcl"
   ]
  },
  {
   "cell_type": "code",
   "execution_count": 2,
   "id": "1e06de41-0f60-4206-8d9d-f9409f1cc5e7",
   "metadata": {
    "execution": {
     "iopub.execute_input": "2023-10-06T12:49:27.939523Z",
     "iopub.status.busy": "2023-10-06T12:49:27.939076Z",
     "iopub.status.idle": "2023-10-06T12:49:32.410309Z",
     "shell.execute_reply": "2023-10-06T12:49:32.409721Z",
     "shell.execute_reply.started": "2023-10-06T12:49:27.939504Z"
    },
    "tags": []
   },
   "outputs": [
    {
     "name": "stdout",
     "output_type": "stream",
     "text": [
      "table has 446487 sources\n",
      "class\n",
      "Gal         246225\n",
      "Star         96715\n",
      "Qso          83130\n",
      "Agn           5608\n",
      "highZQso      1089\n",
      "Name: count, dtype: int64\n",
      "Keeping 432767 labeled sources\n",
      "Keeping 142963 with all features used in Savic+23\n",
      "Keeping 142855 with available cutouts\n"
     ]
    }
   ],
   "source": [
    "object_table = dcl.load_table(have_images = True)"
   ]
  },
  {
   "cell_type": "code",
   "execution_count": 3,
   "id": "b1d65e67-d8bf-4fb2-b66e-328f96547c96",
   "metadata": {
    "execution": {
     "iopub.execute_input": "2023-10-06T12:49:32.411405Z",
     "iopub.status.busy": "2023-10-06T12:49:32.411172Z",
     "iopub.status.idle": "2023-10-06T12:49:32.515948Z",
     "shell.execute_reply": "2023-10-06T12:49:32.515172Z",
     "shell.execute_reply.started": "2023-10-06T12:49:32.411387Z"
    },
    "tags": []
   },
   "outputs": [],
   "source": [
    "X = object_table.drop(columns=[\"class\", \"label\"])\n",
    "y = object_table[\"label\"].to_numpy().astype('int32')\n",
    "objectID = object_table.index\n",
    "X, y, objectID = shuffle(X, y, objectID, random_state = 2605)"
   ]
  },
  {
   "cell_type": "code",
   "execution_count": 17,
   "id": "d6b9d0af-11b2-481e-b337-d2526d7be262",
   "metadata": {
    "execution": {
     "iopub.execute_input": "2023-10-06T12:51:14.219555Z",
     "iopub.status.busy": "2023-10-06T12:51:14.218908Z",
     "iopub.status.idle": "2023-10-06T12:51:14.414545Z",
     "shell.execute_reply": "2023-10-06T12:51:14.413984Z",
     "shell.execute_reply.started": "2023-10-06T12:51:14.219523Z"
    },
    "tags": []
   },
   "outputs": [
    {
     "data": {
      "text/plain": [
       "(71427, 62)"
      ]
     },
     "metadata": {},
     "output_type": "display_data"
    },
    {
     "data": {
      "text/plain": [
       "(71428, 62)"
      ]
     },
     "metadata": {},
     "output_type": "display_data"
    }
   ],
   "source": [
    "X_train, X_test, y_train, y_test, objectID_train, objectID_test = train_test_split(X, y, \n",
    "                                objectID, test_size = 0.5, random_state = 1406)\n",
    "                    \n",
    "scaler = StandardScaler()\n",
    "scaler.fit(X_train)\n",
    "X_train = scaler.transform(X_train)\n",
    "X_test = scaler.transform(X_test)\n",
    "display(X_train.shape, X_test.shape)"
   ]
  },
  {
   "cell_type": "markdown",
   "id": "55bd4f82-ffbb-4b0d-b6b0-8b69b65d916f",
   "metadata": {
    "execution": {
     "iopub.execute_input": "2023-10-06T10:19:19.137381Z",
     "iopub.status.busy": "2023-10-06T10:19:19.136659Z",
     "iopub.status.idle": "2023-10-06T10:19:19.141561Z",
     "shell.execute_reply": "2023-10-06T10:19:19.141005Z",
     "shell.execute_reply.started": "2023-10-06T10:19:19.137352Z"
    },
    "tags": []
   },
   "source": [
    "## Load_images"
   ]
  },
  {
   "cell_type": "code",
   "execution_count": 53,
   "id": "c92fcffe-2e51-4e67-8fe2-a835ec504e6d",
   "metadata": {
    "execution": {
     "iopub.execute_input": "2023-10-06T13:24:01.885714Z",
     "iopub.status.busy": "2023-10-06T13:24:01.885402Z",
     "iopub.status.idle": "2023-10-06T13:24:01.890326Z",
     "shell.execute_reply": "2023-10-06T13:24:01.889748Z",
     "shell.execute_reply.started": "2023-10-06T13:24:01.885692Z"
    },
    "tags": []
   },
   "outputs": [],
   "source": [
    "def load_image(objectID, crop = 16, image_shape = 64,\n",
    "               homedir = os.path.expanduser(\"~/DATA/data_challenge/cutouts\")):\n",
    "    images = []\n",
    "    bordo = int((image_shape-crop)/2)\n",
    "    for i, name in enumerate(objectID):\n",
    "        filename = name+ \".npy\"\n",
    "        image = np.load(os.path.join(homedir, filename))\n",
    "        image = image[bordo:image_shape-bordo, bordo:image_shape-bordo, :]\n",
    "        images.append(image/255)\n",
    "    return images\n",
    "        \n"
   ]
  },
  {
   "cell_type": "code",
   "execution_count": 54,
   "id": "c70831e8-3080-4b9f-9a02-d9de5601c418",
   "metadata": {
    "execution": {
     "iopub.execute_input": "2023-10-06T13:24:02.549572Z",
     "iopub.status.busy": "2023-10-06T13:24:02.548821Z",
     "iopub.status.idle": "2023-10-06T13:25:15.991185Z",
     "shell.execute_reply": "2023-10-06T13:25:15.990545Z",
     "shell.execute_reply.started": "2023-10-06T13:24:02.549545Z"
    },
    "tags": []
   },
   "outputs": [],
   "source": [
    "train_images = load_image(objectID_train)\n",
    "test_images = load_image(objectID_test)\n",
    "\n",
    "train_images_t = torch.empty((len(train_images), 16, 16, 3), dtype=torch.float32)\n",
    "test_images_t = torch.empty((len(test_images), 16, 16, 3), dtype=torch.float32)\n",
    "for i, image in enumerate(train_images):\n",
    "    train_images_t[i,:,:,:] = torch.from_numpy(image)\n",
    "    \n",
    "for i, image in enumerate(test_images):\n",
    "    test_images_t[i,:,:,:] = torch.from_numpy(image)\n",
    "\n",
    "train_images_t = torch.permute(train_images_t, (0, 3, 1, 2))\n",
    "test_images_t = torch.permute(test_images_t, (0, 3, 1, 2))   \n",
    "\n",
    "del test_images\n",
    "del train_images"
   ]
  },
  {
   "cell_type": "code",
   "execution_count": 55,
   "id": "0ec445eb-6e3b-45eb-9f8c-4aec4db07049",
   "metadata": {
    "execution": {
     "iopub.execute_input": "2023-10-06T13:25:16.015768Z",
     "iopub.status.busy": "2023-10-06T13:25:16.015526Z",
     "iopub.status.idle": "2023-10-06T13:25:16.019252Z",
     "shell.execute_reply": "2023-10-06T13:25:16.018753Z",
     "shell.execute_reply.started": "2023-10-06T13:25:16.015749Z"
    },
    "tags": []
   },
   "outputs": [],
   "source": [
    "y_train_t = torch.tensor(y_train, dtype = torch.int64)\n",
    "y_test_t = torch.tensor(y_test, dtype = torch.int64)\n",
    "y_train_t =y_train_t.type(torch.LongTensor)\n",
    "y_test_t =y_test_t.type(torch.LongTensor)\n",
    "\n",
    "train_dataset = TensorDataset(train_images_t, y_train_t)\n",
    "test_dataset = TensorDataset(test_images_t, y_test_t)"
   ]
  },
  {
   "cell_type": "code",
   "execution_count": 56,
   "id": "d29e1b4c-dab9-4417-b238-dd08025c4b7c",
   "metadata": {
    "execution": {
     "iopub.execute_input": "2023-10-06T13:25:16.020561Z",
     "iopub.status.busy": "2023-10-06T13:25:16.020320Z",
     "iopub.status.idle": "2023-10-06T13:25:16.033011Z",
     "shell.execute_reply": "2023-10-06T13:25:16.032514Z",
     "shell.execute_reply.started": "2023-10-06T13:25:16.020545Z"
    },
    "tags": []
   },
   "outputs": [],
   "source": [
    "class savic_cnn(nn.Module):\n",
    "    def __init__(self):\n",
    "        super(savic_cnn, self).__init__()\n",
    "        \n",
    "        self.cnn = nn.Sequential(\n",
    "                    nn.Conv2d(3, 12, kernel_size = 2),\n",
    "                    nn.ReLU(),\n",
    "                    nn.MaxPool2d(kernel_size = 2, stride = 2))\n",
    "        \n",
    "        self.dense = nn.Sequential(\n",
    "                     nn.Linear(12*7*7, 30),\n",
    "                     nn.ReLU(),\n",
    "                     nn.Linear(30, 30),\n",
    "                     nn.ReLU(),\n",
    "                     nn.Linear(30,3))\n",
    "    \n",
    "    def forward(self, x):\n",
    "        x = self.cnn(x)\n",
    "        x = torch.flatten(x, 1)\n",
    "        x = self.dense(x)\n",
    "        return x"
   ]
  },
  {
   "cell_type": "code",
   "execution_count": 57,
   "id": "663e6b72-f029-4713-bd8d-ca1fdb143698",
   "metadata": {
    "execution": {
     "iopub.execute_input": "2023-10-06T13:25:16.033891Z",
     "iopub.status.busy": "2023-10-06T13:25:16.033646Z",
     "iopub.status.idle": "2023-10-06T13:25:16.046866Z",
     "shell.execute_reply": "2023-10-06T13:25:16.046375Z",
     "shell.execute_reply.started": "2023-10-06T13:25:16.033875Z"
    },
    "tags": []
   },
   "outputs": [],
   "source": [
    "def train_routine(dataloader, model, loss_fn, optimizer, verbose = True):\n",
    "    losses = []\n",
    "    size = len(dataloader.dataset)\n",
    "    num_batches = len(dataloader)\n",
    "    for batch, (features, labels) in enumerate(dataloader): #X[0] = tensor with features, X[1] = labels\n",
    "        output = model(features)\n",
    "        loss = loss_fn(output, labels)\n",
    "\n",
    "        # Backpropagation\n",
    "        optimizer.zero_grad()    # Clear the gradient\n",
    "        loss.backward()          # Compute the gradient (??)\n",
    "        optimizer.step()         # update model weights\n",
    "\n",
    "        \n",
    "        if batch == round(num_batches/2):\n",
    "            losses.append(loss.item())\n",
    "            if verbose:\n",
    "                print(f\"loss: {loss:>7f}\")\n",
    "\n",
    "    return losses\n",
    "\n",
    "def test_routine(dataloader, model, loss_fn, verbose = True):\n",
    "    size = len(dataloader.dataset)\n",
    "    num_batches = len(dataloader)\n",
    "    test_loss = 0\n",
    "    model.eval() \n",
    "    with torch.no_grad():\n",
    "        for features, labels in dataloader:\n",
    "            output = model(features)\n",
    "            test_loss += loss_fn(output, labels).item()\n",
    "\n",
    "    test_loss /= num_batches\n",
    "    if verbose:\n",
    "        print(f\" Avg test loss      : {test_loss:>8f}\")\n",
    "\n",
    "    return test_loss"
   ]
  },
  {
   "cell_type": "code",
   "execution_count": 62,
   "id": "a81754e1-4bd4-4ca1-bcb1-9ea2032a2cf3",
   "metadata": {
    "execution": {
     "iopub.execute_input": "2023-10-06T13:32:47.738110Z",
     "iopub.status.busy": "2023-10-06T13:32:47.737388Z",
     "iopub.status.idle": "2023-10-06T13:32:47.743232Z",
     "shell.execute_reply": "2023-10-06T13:32:47.742696Z",
     "shell.execute_reply.started": "2023-10-06T13:32:47.738085Z"
    },
    "tags": []
   },
   "outputs": [],
   "source": [
    "my_cnn = savic_cnn()\n",
    "BATCHSIZE = 35\n",
    "BATCHSIZE_TEST = 100\n",
    "EPOCHS = 30\n",
    "SEED = 12\n",
    "loss_fn = torch.nn.CrossEntropyLoss()  #torch.nn.CrossEntropyLoss\n",
    "optimizer = torch.optim.SGD(my_cnn.parameters(), lr=0.001)\n",
    "\n",
    "train_dataloader = DataLoader(train_dataset, batch_size= BATCHSIZE, shuffle=True)\n",
    "test_dataloader  = DataLoader(test_dataset, batch_size=BATCHSIZE_TEST, shuffle=True)\n"
   ]
  },
  {
   "cell_type": "code",
   "execution_count": 63,
   "id": "e7f0e8f6-3099-42a0-a982-65eda6daa78d",
   "metadata": {
    "execution": {
     "iopub.execute_input": "2023-10-06T13:32:48.779609Z",
     "iopub.status.busy": "2023-10-06T13:32:48.778876Z",
     "iopub.status.idle": "2023-10-06T13:35:15.218458Z",
     "shell.execute_reply": "2023-10-06T13:35:15.217433Z",
     "shell.execute_reply.started": "2023-10-06T13:32:48.779579Z"
    },
    "tags": []
   },
   "outputs": [
    {
     "name": "stdout",
     "output_type": "stream",
     "text": [
      " Avg test loss      : 1.074882\n",
      "Epoch 0\n",
      " Avg test loss      : 1.064767\n",
      "Epoch 1\n",
      " Avg test loss      : 1.048781\n",
      "Epoch 2\n",
      " Avg test loss      : 0.991263\n",
      "Epoch 3\n",
      " Avg test loss      : 0.811058\n",
      "Epoch 4\n",
      " Avg test loss      : 0.679540\n",
      "Epoch 5\n",
      " Avg test loss      : 0.595549\n",
      "Epoch 6\n",
      " Avg test loss      : 0.515952\n",
      "Epoch 7\n",
      " Avg test loss      : 0.441146\n",
      "Epoch 8\n",
      " Avg test loss      : 0.386795\n",
      "Epoch 9\n",
      " Avg test loss      : 0.354900\n",
      "Epoch 10\n",
      " Avg test loss      : 0.336946\n",
      "Epoch 11\n",
      " Avg test loss      : 0.326827\n",
      "Epoch 12\n",
      " Avg test loss      : 0.319072\n",
      "Epoch 13\n",
      " Avg test loss      : 0.311093\n",
      "Epoch 14\n",
      " Avg test loss      : 0.304160\n",
      "Epoch 15\n",
      " Avg test loss      : 0.298556\n",
      "Epoch 16\n",
      " Avg test loss      : 0.294493\n",
      "Epoch 17\n",
      " Avg test loss      : 0.290348\n",
      "Epoch 18\n",
      " Avg test loss      : 0.286313\n",
      "Epoch 19\n",
      " Avg test loss      : 0.284226\n",
      "Epoch 20\n",
      " Avg test loss      : 0.280120\n",
      "Epoch 21\n",
      " Avg test loss      : 0.277532\n",
      "Epoch 22\n",
      " Avg test loss      : 0.275349\n",
      "Epoch 23\n",
      " Avg test loss      : 0.273519\n",
      "Epoch 24\n",
      " Avg test loss      : 0.271326\n",
      "Epoch 25\n",
      " Avg test loss      : 0.269455\n",
      "Epoch 26\n",
      " Avg test loss      : 0.267796\n",
      "Epoch 27\n",
      " Avg test loss      : 0.266671\n",
      "Epoch 28\n",
      " Avg test loss      : 0.265955\n",
      "Epoch 29\n",
      "Done!\n"
     ]
    }
   ],
   "source": [
    "train_loss = []\n",
    "test_loss  = []\n",
    "for t in range(EPOCHS):\n",
    "    #print(f\"Epoch {t+1}\\n-------------------------------\")\n",
    "    train_loss.append(train_routine(train_dataloader, my_cnn, loss_fn, optimizer, verbose = False))\n",
    "    test_loss.append(test_routine(test_dataloader, my_cnn, loss_fn, verbose = True))\n",
    "    print(f\"Epoch {t}\")\n",
    "print(\"Done!\")"
   ]
  },
  {
   "cell_type": "code",
   "execution_count": 69,
   "id": "1d740a8f-a173-418b-b208-3432da6ceabc",
   "metadata": {
    "execution": {
     "iopub.execute_input": "2023-10-06T13:38:24.100895Z",
     "iopub.status.busy": "2023-10-06T13:38:24.100043Z",
     "iopub.status.idle": "2023-10-06T13:38:24.840183Z",
     "shell.execute_reply": "2023-10-06T13:38:24.839642Z",
     "shell.execute_reply.started": "2023-10-06T13:38:24.100863Z"
    },
    "tags": []
   },
   "outputs": [
    {
     "name": "stdout",
     "output_type": "stream",
     "text": [
      "[0.91121676 0.95098371 0.82881459]\n",
      "0.9070392563140505\n"
     ]
    },
    {
     "data": {
      "text/plain": [
       "<sklearn.metrics._plot.confusion_matrix.ConfusionMatrixDisplay at 0x7fdaace1f990>"
      ]
     },
     "execution_count": 69,
     "metadata": {},
     "output_type": "execute_result"
    },
    {
     "data": {
      "image/png": "[encoded data removed]",
      "text/plain": [
       "<Figure size 640x480 with 2 Axes>"
      ]
     },
     "metadata": {},
     "output_type": "display_data"
    }
   ],
   "source": [
    "predictions = my_cnn(test_images_t)\n",
    "predictions = predictions.detach().numpy()\n",
    "predictions = np.argmax(predictions, axis =1)\n",
    "cf = confusion_matrix(y_test, predictions)\n",
    "\n",
    "str_labels = ['Star', 'Gal', 'Qso/Agn']\n",
    "accuracy = cf.diagonal()/cf.sum(axis=1)\n",
    "print(accuracy)\n",
    "print(accuracy_score(y_test, predictions))\n",
    "ConfusionMatrixDisplay(cf, display_labels=str_labels).plot()\n"
   ]
  },
  {
   "cell_type": "markdown",
   "id": "61935102-443a-4191-87ee-a9d8c1b56428",
   "metadata": {
    "execution": {
     "iopub.execute_input": "2023-10-06T13:19:23.689056Z",
     "iopub.status.busy": "2023-10-06T13:19:23.688373Z",
     "iopub.status.idle": "2023-10-06T13:19:23.691483Z",
     "shell.execute_reply": "2023-10-06T13:19:23.690966Z",
     "shell.execute_reply.started": "2023-10-06T13:19:23.689033Z"
    },
    "tags": []
   },
   "source": [
    "## Tabular + Images data"
   ]
  },
  {
   "cell_type": "code",
   "execution_count": 65,
   "id": "0a9a4fa8-ec61-4654-a812-8203d7dd85ba",
   "metadata": {
    "execution": {
     "iopub.execute_input": "2023-10-06T13:35:39.720427Z",
     "iopub.status.busy": "2023-10-06T13:35:39.719714Z",
     "iopub.status.idle": "2023-10-06T13:35:39.723708Z",
     "shell.execute_reply": "2023-10-06T13:35:39.723155Z",
     "shell.execute_reply.started": "2023-10-06T13:35:39.720402Z"
    },
    "tags": []
   },
   "outputs": [],
   "source": [
    "idx = 100\n",
    "\n",
    "x_short= torch.tensor(X_train[:idx], dtype = torch.float32)\n",
    "y_short = y_train_t[:idx]\n",
    "img_short = train_images_t[:idx]"
   ]
  },
  {
   "cell_type": "code",
   "execution_count": 52,
   "id": "c37bc9ba-e0a7-49ed-8a36-876ac7bbd88e",
   "metadata": {
    "execution": {
     "iopub.execute_input": "2023-10-06T13:19:59.169212Z",
     "iopub.status.busy": "2023-10-06T13:19:59.168433Z",
     "iopub.status.idle": "2023-10-06T13:19:59.174752Z",
     "shell.execute_reply": "2023-10-06T13:19:59.174260Z",
     "shell.execute_reply.started": "2023-10-06T13:19:59.169185Z"
    },
    "tags": []
   },
   "outputs": [],
   "source": [
    "class general_MLP(nn.Module):\n",
    "    def __init__(self, input_size, output_size, N_hidden = 0, hidden_sizes =[],\n",
    "                activation_function = nn.LeakyReLU(), seed = 26052013):\n",
    "        super(general_MLP, self).__init__()\n",
    "        \n",
    "        self.seed = seed\n",
    "        \n",
    "        if N_hidden > 0:\n",
    "            assert len(hidden_sizes) == N_hidden\n",
    "            first_layer_out = hidden_sizes[0]\n",
    "            last_layer_in = hidden_sizes[-1]\n",
    "        else:\n",
    "            first_layer_out = output_size \n",
    "            last_layer_in = output_size \n",
    "        \n",
    "        self.activation_function = activation_function\n",
    "        \n",
    "        self.first_layer = nn.Sequential(\n",
    "                           nn.Linear(input_size, first_layer_out),\n",
    "                           self.activation_function)\n",
    "        \n",
    "\n",
    "        \n",
    "        hidden_layers =[]\n",
    "        for N_in, N_out  in zip(hidden_sizes[:-1],hidden_sizes[1:]):\n",
    "            \n",
    "            hidden_layers.append(nn.Linear(N_in, N_out))\n",
    "            hidden_layers.append(self.activation_function)\n",
    "       \n",
    "        \n",
    "        self.hidden_layers = nn.Sequential(*hidden_layers)\n",
    "\n",
    "        self.last_layer = nn.Linear(last_layer_in, output_size)\n",
    "        \n",
    "        \n",
    "    def forward(self, x):\n",
    "        x = self.first_layer(x)\n",
    "        x = self.hidden_layers(x)\n",
    "        x = self.last_layer(x)\n",
    "        \n",
    "        return x"
   ]
  },
  {
   "cell_type": "code",
   "execution_count": 96,
   "id": "4319e3b0-bc7e-4899-a870-d2f9852df0c0",
   "metadata": {
    "execution": {
     "iopub.execute_input": "2023-10-06T14:47:59.320252Z",
     "iopub.status.busy": "2023-10-06T14:47:59.319574Z",
     "iopub.status.idle": "2023-10-06T14:47:59.325935Z",
     "shell.execute_reply": "2023-10-06T14:47:59.325176Z",
     "shell.execute_reply.started": "2023-10-06T14:47:59.320226Z"
    },
    "tags": []
   },
   "outputs": [],
   "source": [
    "class final_model(nn.Module):\n",
    "    def __init__(self):\n",
    "        super(final_model,self).__init__()\n",
    "        \n",
    "        self.process_tabular = general_MLP(input_size = 62, output_size = 30, N_hidden = 1, hidden_sizes =[62],\n",
    "                activation_function = nn.LeakyReLU())\n",
    "        \n",
    "        self.process_image = nn.Sequential(\n",
    "                                   #nn.Conv2d(3, 12, 2),\n",
    "                                   #nn.LeakyReLU(),\n",
    "                                   nn.MaxPool2d(kernel_size = 2, stride = 2))\n",
    "        self.process_flattened_image = general_MLP(input_size = 3*8*8, output_size = 30, \n",
    "                                                   N_hidden = 1, hidden_sizes =[30])\n",
    "        \n",
    "        self.process_both = general_MLP(input_size = 60, output_size = 3, \n",
    "                                                   N_hidden = 1, hidden_sizes =[30])\n",
    "        \n",
    "    def forward(self, image, tabular):\n",
    "        \n",
    "        image = self.process_image(image)\n",
    "        image = torch.flatten(image, 1)\n",
    "        image = self.process_flattened_image(image)\n",
    "        \n",
    "        tabular = self.process_tabular(tabular)\n",
    "        \n",
    "        out = torch.concat([image, tabular], dim =1)\n",
    "        \n",
    "        return out"
   ]
  },
  {
   "cell_type": "code",
   "execution_count": 97,
   "id": "0f7b6db8-1f26-437c-9fd4-036a129f25d5",
   "metadata": {
    "execution": {
     "iopub.execute_input": "2023-10-06T14:48:01.409123Z",
     "iopub.status.busy": "2023-10-06T14:48:01.408405Z",
     "iopub.status.idle": "2023-10-06T14:48:01.416812Z",
     "shell.execute_reply": "2023-10-06T14:48:01.416158Z",
     "shell.execute_reply.started": "2023-10-06T14:48:01.409097Z"
    },
    "tags": []
   },
   "outputs": [],
   "source": [
    "X_train_t = torch.tensor(X_train, dtype = torch.float32)\n",
    "X_test_t = torch.tensor(X_test, dtype = torch.float32)\n",
    "\n",
    "train_dataset_final = TensorDataset(train_images_t, X_train_t, y_train_t)\n",
    "test_dataset_final = TensorDataset(test_images_t, X_test_t, y_test_t)\n",
    "\n",
    "train_dataloader_final = DataLoader(train_dataset_final, batch_size= 35, shuffle=True)\n",
    "test_dataloader_final = DataLoader(test_dataset_final, batch_size= 35, shuffle=True)\n"
   ]
  },
  {
   "cell_type": "code",
   "execution_count": 98,
   "id": "7e188fe5-a5c2-40fd-9a82-4af66a47f1dd",
   "metadata": {
    "execution": {
     "iopub.execute_input": "2023-10-06T14:48:03.146599Z",
     "iopub.status.busy": "2023-10-06T14:48:03.145874Z",
     "iopub.status.idle": "2023-10-06T14:48:03.152147Z",
     "shell.execute_reply": "2023-10-06T14:48:03.151498Z",
     "shell.execute_reply.started": "2023-10-06T14:48:03.146572Z"
    },
    "tags": []
   },
   "outputs": [],
   "source": [
    "def train_routine_final(dataloader, model, loss_fn, optimizer, verbose = True):\n",
    "    losses = []\n",
    "    num_batches = len(dataloader)\n",
    "    for batch, (images, features, labels) in enumerate(dataloader): #X[0] = tensor with features, X[1] = labels\n",
    "        output = model(images, features)\n",
    "        loss = loss_fn(output, labels)\n",
    "\n",
    "        # Backpropagation\n",
    "        optimizer.zero_grad()    # Clear the gradient\n",
    "        loss.backward()          # Compute the gradient (??)\n",
    "        optimizer.step()         # update model weights\n",
    "\n",
    "        \n",
    "        if batch == round(num_batches/2):\n",
    "            losses.append(loss.item())\n",
    "            if verbose:\n",
    "                print(f\"loss: {loss:>7f}\")\n",
    "\n",
    "    return losses\n",
    "\n",
    "def test_routine_final(dataloader, model, loss_fn, verbose = True):\n",
    "    size = len(dataloader.dataset)\n",
    "    num_batches = len(dataloader)\n",
    "    test_loss = 0\n",
    "    model.eval() \n",
    "    with torch.no_grad():\n",
    "        for images, features, labels in dataloader:\n",
    "            output = model(images, features)\n",
    "            test_loss += loss_fn(output, labels).item()\n",
    "\n",
    "    test_loss /= num_batches\n",
    "    if verbose:\n",
    "        print(f\" Avg test loss      : {test_loss:>8f}\")\n",
    "\n",
    "    return test_loss"
   ]
  },
  {
   "cell_type": "code",
   "execution_count": 99,
   "id": "4d474601-670f-4517-b5cd-697e33637fc0",
   "metadata": {
    "execution": {
     "iopub.execute_input": "2023-10-06T14:48:09.194970Z",
     "iopub.status.busy": "2023-10-06T14:48:09.194286Z",
     "iopub.status.idle": "2023-10-06T14:48:09.200055Z",
     "shell.execute_reply": "2023-10-06T14:48:09.199441Z",
     "shell.execute_reply.started": "2023-10-06T14:48:09.194942Z"
    },
    "tags": []
   },
   "outputs": [],
   "source": [
    "modello_finale = final_model()\n",
    "EPOCHS = 60\n",
    "SEED = 12\n",
    "loss_fn = torch.nn.CrossEntropyLoss()  #torch.nn.CrossEntropyLoss\n",
    "optimizer = torch.optim.SGD(modello_finale.parameters(), lr=0.001)"
   ]
  },
  {
   "cell_type": "code",
   "execution_count": 100,
   "id": "b5abc097-8ce9-483d-ad8f-e551d1415659",
   "metadata": {
    "execution": {
     "iopub.execute_input": "2023-10-06T14:48:09.947708Z",
     "iopub.status.busy": "2023-10-06T14:48:09.947065Z",
     "iopub.status.idle": "2023-10-06T14:53:06.687984Z",
     "shell.execute_reply": "2023-10-06T14:53:06.687280Z",
     "shell.execute_reply.started": "2023-10-06T14:48:09.947681Z"
    },
    "tags": []
   },
   "outputs": [
    {
     "name": "stdout",
     "output_type": "stream",
     "text": [
      " Avg test loss      : 1.669285\n",
      "Epoch 0\n",
      " Avg test loss      : 1.008101\n",
      "Epoch 1\n",
      " Avg test loss      : 0.840340\n",
      "Epoch 2\n",
      " Avg test loss      : 0.740172\n",
      "Epoch 3\n",
      " Avg test loss      : 0.664936\n",
      "Epoch 4\n",
      " Avg test loss      : 0.604668\n",
      "Epoch 5\n",
      " Avg test loss      : 0.555502\n",
      "Epoch 6\n",
      " Avg test loss      : 0.514498\n",
      "Epoch 7\n",
      " Avg test loss      : 0.480878\n",
      "Epoch 8\n",
      " Avg test loss      : 0.453632\n",
      "Epoch 9\n",
      " Avg test loss      : 0.431935\n",
      "Epoch 10\n",
      " Avg test loss      : 0.414534\n",
      "Epoch 11\n",
      " Avg test loss      : 0.400855\n",
      "Epoch 12\n",
      " Avg test loss      : 0.389628\n",
      "Epoch 13\n",
      " Avg test loss      : 0.380668\n",
      "Epoch 14\n",
      " Avg test loss      : 0.373238\n",
      "Epoch 15\n",
      " Avg test loss      : 0.367080\n",
      "Epoch 16\n",
      " Avg test loss      : 0.361943\n",
      "Epoch 17\n",
      " Avg test loss      : 0.357560\n",
      "Epoch 18\n",
      " Avg test loss      : 0.353679\n",
      "Epoch 19\n",
      " Avg test loss      : 0.350228\n",
      "Epoch 20\n",
      " Avg test loss      : 0.347183\n",
      "Epoch 21\n",
      " Avg test loss      : 0.344536\n",
      "Epoch 22\n",
      " Avg test loss      : 0.341803\n",
      "Epoch 23\n",
      " Avg test loss      : 0.339177\n",
      "Epoch 24\n",
      " Avg test loss      : 0.336861\n",
      "Epoch 25\n",
      " Avg test loss      : 0.334671\n",
      "Epoch 26\n",
      " Avg test loss      : 0.332673\n",
      "Epoch 27\n",
      " Avg test loss      : 0.330966\n",
      "Epoch 28\n",
      " Avg test loss      : 0.329121\n",
      "Epoch 29\n",
      " Avg test loss      : 0.327554\n",
      "Epoch 30\n",
      " Avg test loss      : 0.326122\n",
      "Epoch 31\n",
      " Avg test loss      : 0.324472\n",
      "Epoch 32\n",
      " Avg test loss      : 0.323127\n",
      "Epoch 33\n",
      " Avg test loss      : 0.321726\n",
      "Epoch 34\n",
      " Avg test loss      : 0.320442\n",
      "Epoch 35\n",
      " Avg test loss      : 0.319268\n",
      "Epoch 36\n",
      " Avg test loss      : 0.318217\n",
      "Epoch 37\n",
      " Avg test loss      : 0.317132\n",
      "Epoch 38\n",
      " Avg test loss      : 0.315977\n",
      "Epoch 39\n",
      " Avg test loss      : 0.314969\n",
      "Epoch 40\n",
      " Avg test loss      : 0.314106\n",
      "Epoch 41\n",
      " Avg test loss      : 0.312999\n",
      "Epoch 42\n",
      " Avg test loss      : 0.312253\n",
      "Epoch 43\n",
      " Avg test loss      : 0.311289\n",
      "Epoch 44\n",
      " Avg test loss      : 0.310423\n",
      "Epoch 45\n",
      " Avg test loss      : 0.309552\n",
      "Epoch 46\n",
      " Avg test loss      : 0.308950\n",
      "Epoch 47\n",
      " Avg test loss      : 0.307992\n",
      "Epoch 48\n",
      " Avg test loss      : 0.307296\n",
      "Epoch 49\n",
      " Avg test loss      : 0.306580\n",
      "Epoch 50\n",
      " Avg test loss      : 0.305838\n",
      "Epoch 51\n",
      " Avg test loss      : 0.305230\n",
      "Epoch 52\n",
      " Avg test loss      : 0.304532\n",
      "Epoch 53\n",
      " Avg test loss      : 0.303907\n",
      "Epoch 54\n",
      " Avg test loss      : 0.303321\n",
      "Epoch 55\n",
      " Avg test loss      : 0.302799\n",
      "Epoch 56\n",
      " Avg test loss      : 0.302212\n",
      "Epoch 57\n",
      " Avg test loss      : 0.301587\n",
      "Epoch 58\n",
      " Avg test loss      : 0.301030\n",
      "Epoch 59\n",
      "Done!\n"
     ]
    }
   ],
   "source": [
    "train_loss = []\n",
    "test_loss  = []\n",
    "for t in range(EPOCHS):\n",
    "    #print(f\"Epoch {t+1}\\n-------------------------------\")\n",
    "    train_loss.append(train_routine_final(train_dataloader_final, modello_finale, loss_fn, optimizer, verbose = False))\n",
    "    test_loss.append(test_routine_final(test_dataloader_final, modello_finale, loss_fn, verbose = True))\n",
    "    print(f\"Epoch {t}\")\n",
    "print(\"Done!\")"
   ]
  },
  {
   "cell_type": "code",
   "execution_count": 101,
   "id": "480c6950-9adf-423d-b78a-74f38c79d0a5",
   "metadata": {
    "execution": {
     "iopub.execute_input": "2023-10-06T14:54:10.382051Z",
     "iopub.status.busy": "2023-10-06T14:54:10.381189Z",
     "iopub.status.idle": "2023-10-06T14:54:10.725808Z",
     "shell.execute_reply": "2023-10-06T14:54:10.725235Z",
     "shell.execute_reply.started": "2023-10-06T14:54:10.382016Z"
    },
    "tags": []
   },
   "outputs": [
    {
     "name": "stdout",
     "output_type": "stream",
     "text": [
      "[0.90339849 0.95425648 0.7725228 ]\n",
      "0.8921851374810998\n"
     ]
    },
    {
     "data": {
      "text/plain": [
       "<sklearn.metrics._plot.confusion_matrix.ConfusionMatrixDisplay at 0x7fdaad001f90>"
      ]
     },
     "execution_count": 101,
     "metadata": {},
     "output_type": "execute_result"
    },
    {
     "data": {
      "image/png": "[encoded data removed]",
      "text/plain": [
       "<Figure size 640x480 with 2 Axes>"
      ]
     },
     "metadata": {},
     "output_type": "display_data"
    }
   ],
   "source": [
    "predictions = modello_finale(test_images_t, X_test_t)\n",
    "predictions = predictions.detach().numpy()\n",
    "predictions = np.argmax(predictions, axis =1)\n",
    "cf = confusion_matrix(y_test, predictions)\n",
    "\n",
    "str_labels = ['Star', 'Gal', 'Qso/Agn']\n",
    "accuracy = cf.diagonal()/cf.sum(axis=1)\n",
    "print(accuracy)\n",
    "print(accuracy_score(y_test, predictions))\n",
    "ConfusionMatrixDisplay(cf, display_labels=str_labels).plot()\n"
   ]
  },
  {
   "cell_type": "code",
   "execution_count": 102,
   "id": "f25b9566-e430-4f6e-8fbc-9f1b42dc1f08",
   "metadata": {
    "execution": {
     "iopub.execute_input": "2023-10-06T14:55:18.517287Z",
     "iopub.status.busy": "2023-10-06T14:55:18.516570Z",
     "iopub.status.idle": "2023-10-06T14:55:18.521267Z",
     "shell.execute_reply": "2023-10-06T14:55:18.520714Z",
     "shell.execute_reply.started": "2023-10-06T14:55:18.517263Z"
    },
    "tags": []
   },
   "outputs": [
    {
     "data": {
      "text/plain": [
       "24.0"
      ]
     },
     "execution_count": 102,
     "metadata": {},
     "output_type": "execute_result"
    }
   ],
   "source": [
    "(64-16)/2"
   ]
  },
  {
   "cell_type": "code",
   "execution_count": 103,
   "id": "e7f26aa4-c456-4a28-8992-12a760411668",
   "metadata": {
    "execution": {
     "iopub.execute_input": "2023-10-06T14:59:24.813094Z",
     "iopub.status.busy": "2023-10-06T14:59:24.812373Z",
     "iopub.status.idle": "2023-10-06T14:59:24.819431Z",
     "shell.execute_reply": "2023-10-06T14:59:24.818567Z",
     "shell.execute_reply.started": "2023-10-06T14:59:24.813065Z"
    },
    "tags": []
   },
   "outputs": [
    {
     "data": {
      "text/plain": [
       "\u001b[0;31mSignature:\u001b[0m \u001b[0mstr\u001b[0m\u001b[0;34m.\u001b[0m\u001b[0mzfill\u001b[0m\u001b[0;34m(\u001b[0m\u001b[0mself\u001b[0m\u001b[0;34m,\u001b[0m \u001b[0mwidth\u001b[0m\u001b[0;34m,\u001b[0m \u001b[0;34m/\u001b[0m\u001b[0;34m)\u001b[0m\u001b[0;34m\u001b[0m\u001b[0;34m\u001b[0m\u001b[0m\n",
       "\u001b[0;31mDocstring:\u001b[0m\n",
       "Pad a numeric string with zeros on the left, to fill a field of the given width.\n",
       "\n",
       "The string is never truncated.\n",
       "\u001b[0;31mType:\u001b[0m      method_descriptor"
      ]
     },
     "metadata": {},
     "output_type": "display_data"
    }
   ],
   "source": [
    "?str.zfill"
   ]
  },
  {
   "cell_type": "code",
   "execution_count": null,
   "id": "44abb901-8b22-49a7-8f74-195f284e2487",
   "metadata": {},
   "outputs": [],
   "source": []
  }
 ],
 "metadata": {
  "kernelspec": {
   "display_name": "LSST",
   "language": "python",
   "name": "lsst"
  },
  "language_info": {
   "codemirror_mode": {
    "name": "ipython",
    "version": 3
   },
   "file_extension": ".py",
   "mimetype": "text/x-python",
   "name": "python",
   "nbconvert_exporter": "python",
   "pygments_lexer": "ipython3",
   "version": "3.11.4"
  }
 },
 "nbformat": 4,
 "nbformat_minor": 5
}
