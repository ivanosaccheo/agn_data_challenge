{
 "cells": [
  {
   "cell_type": "code",
   "execution_count": 1,
   "metadata": {},
   "outputs": [],
   "source": [
    "import os\n",
    "import numpy as np \n",
    "import pandas as pd\n",
    "import data_challenge_library as dcl\n",
    "import matplotlib.pyplot as plt "
   ]
  },
  {
   "cell_type": "code",
   "execution_count": 3,
   "metadata": {},
   "outputs": [
    {
     "name": "stdout",
     "output_type": "stream",
     "text": [
      "table has 446487 sources\n",
      "class\n",
      "Gal         246225\n",
      "Star         96715\n",
      "Qso          83130\n",
      "Agn           5608\n",
      "highZQso      1089\n",
      "Name: count, dtype: int64\n",
      "Keeping 432767 labeled sources\n",
      "Keeping 142963 with all features used in Savic+23\n",
      "Created variability tables for 142962 sources\n",
      "Scaled time and fluxes/magnitudes\n"
     ]
    }
   ],
   "source": [
    "table = dcl.load_table()\n",
    "variability_tables, variability_index = dcl.load_variability_table(objectId = pd.Series(table.index.astype(\"str\")))"
   ]
  },
  {
   "cell_type": "code",
   "execution_count": 34,
   "metadata": {},
   "outputs": [],
   "source": [
    "table[\"objectId\"] = table.index.astype(str)\n",
    "variability_index = pd.DataFrame(variability_index,  columns =[\"objectID\"])\n",
    "labels = variability_index.merge(table, how = 'left', on = \"objectID\")\n"
   ]
  },
  {
   "cell_type": "code",
   "execution_count": 43,
   "metadata": {},
   "outputs": [
    {
     "name": "stdout",
     "output_type": "stream",
     "text": [
      "class\n",
      "Star    56531\n",
      "Gal     53331\n",
      "Qso     32780\n",
      "Agn       320\n",
      "Name: count, dtype: int64\n"
     ]
    }
   ],
   "source": [
    "print(labels[\"class\"].value_counts())"
   ]
  },
  {
   "cell_type": "code",
   "execution_count": 18,
   "metadata": {},
   "outputs": [
    {
     "name": "stdout",
     "output_type": "stream",
     "text": [
      "CPU times: user 8.22 ms, sys: 10 µs, total: 8.23 ms\n",
      "Wall time: 8.14 ms\n"
     ]
    },
    {
     "data": {
      "text/plain": [
       "False"
      ]
     },
     "execution_count": 18,
     "metadata": {},
     "output_type": "execute_result"
    }
   ],
   "source": [
    "%%time\n",
    "\"0271385\" in table[\"objectID\"].values"
   ]
  },
  {
   "cell_type": "code",
   "execution_count": 21,
   "metadata": {},
   "outputs": [
    {
     "data": {
      "text/plain": [
       "29.439666666666668"
      ]
     },
     "execution_count": 21,
     "metadata": {},
     "output_type": "execute_result"
    }
   ],
   "source": [
    " 8.14*217/60"
   ]
  },
  {
   "cell_type": "code",
   "execution_count": 31,
   "metadata": {},
   "outputs": [
    {
     "data": {
      "text/plain": [
       "Index(['objectID', 'psMag_u', 'psMag_g', 'psMag_r', 'psMag_i', 'psMag_z',\n",
       "       'psMag_y', 'bdMag_u', 'bdMag_g', 'bdMag_r', 'bdMag_i', 'bdMag_z',\n",
       "       'bdMag_y', 'extendedness_u', 'extendedness_g', 'extendedness_r',\n",
       "       'extendedness_i', 'extendedness_z', 'lcNonPeriodic[0]_g',\n",
       "       'lcNonPeriodic[5]_g', 'lcNonPeriodic[5]_r', 'lcNonPeriodic[9]_i',\n",
       "       'lcNonPeriodic[12]_g', 'lcNonPeriodic[12]_u', 'lcNonPeriodic[13]_u',\n",
       "       'lcNonPeriodic[14]_g', 'lcNonPeriodic[15]_u', 'lcNonPeriodic[15]_g',\n",
       "       'lcNonPeriodic[15]_r', 'lcNonPeriodic[15]_i', 'lcNonPeriodic[15]_z',\n",
       "       'lcNonPeriodic[21]_u', 'lcNonPeriodic[21]_g', 'lcNonPeriodic[22]_g',\n",
       "       'lcNonPeriodic[23]_u', 'lcNonPeriodic[25]_g', 'lcNonPeriodic[25]_r',\n",
       "       'lcNonPeriodic[25]_i', 'lcNonPeriodic[26]_u', 'lcNonPeriodic[26]_g',\n",
       "       'lcNonPeriodic[26]_r', 'lcNonPeriodic[26]_i', 'lcNonPeriodic[28]_g',\n",
       "       'lcNonPeriodic[28]_r', 'lcNonPeriodic[28]_i', 'lcPeriodic[4]_i',\n",
       "       'lcPeriodic[4]_u', 'lcPeriodic[12]_g', 'lcPeriodic[14]_i',\n",
       "       'lcPeriodic[20]_g', 'lcPeriodic[28]_g', 'lcPeriodic[28]_i',\n",
       "       'lcPeriodic[29]_g', 'lcPeriodic[29]_r', 'lcPeriodic[29]_i',\n",
       "       'lcPeriodic[30]_g', 'lcPeriodic[30]_r', 'lcPeriodic[30]_i',\n",
       "       'stdColor_0', 'stdColor_1', 'stdColor_2', 'stdColor_3', 'stdColor_4',\n",
       "       'class', 'label'],\n",
       "      dtype='object')"
      ]
     },
     "execution_count": 31,
     "metadata": {},
     "output_type": "execute_result"
    }
   ],
   "source": [
    "prova.columns"
   ]
  },
  {
   "cell_type": "code",
   "execution_count": 42,
   "metadata": {},
   "outputs": [],
   "source": [
    " directory = os.path.expanduser(\"~/DATA/data_challenge\")\n",
    "variability_table = pd.read_parquet(os.path.join(directory, \"ForcedSourceTable.parquet\"), engine='fastparquet')\n",
    "variability_table = variability_table[variability_table[\"filter\"]==0]"
   ]
  },
  {
   "cell_type": "code",
   "execution_count": 44,
   "metadata": {},
   "outputs": [
    {
     "data": {
      "text/plain": [
       "9794849"
      ]
     },
     "execution_count": 44,
     "metadata": {},
     "output_type": "execute_result"
    }
   ],
   "source": [
    "len(variability_table)\n",
    "a = variability_table.rename(columns = {\"objectId\" : \"objectID\"})\n",
    "len(a)"
   ]
  },
  {
   "cell_type": "code",
   "execution_count": 51,
   "metadata": {},
   "outputs": [],
   "source": [
    "k = table[\"objectID\"]"
   ]
  },
  {
   "cell_type": "code",
   "execution_count": 52,
   "metadata": {},
   "outputs": [],
   "source": [
    " g = a.merge(k, how = 'right', on = \"objectID\")"
   ]
  },
  {
   "cell_type": "code",
   "execution_count": 54,
   "metadata": {},
   "outputs": [
    {
     "data": {
      "text/plain": [
       "Index(['objectID', 'mjd', 'psMag', 'psMagErr', 'flags', 'psFlux', 'psFluxErr',\n",
       "       'psDiffFlux', 'psDiffFluxErr', 'filter'],\n",
       "      dtype='object')"
      ]
     },
     "execution_count": 54,
     "metadata": {},
     "output_type": "execute_result"
    }
   ],
   "source": [
    "g.columns"
   ]
  },
  {
   "cell_type": "code",
   "execution_count": 47,
   "metadata": {},
   "outputs": [
    {
     "data": {
      "text/html": [
       "<div>\n",
       "<style scoped>\n",
       "    .dataframe tbody tr th:only-of-type {\n",
       "        vertical-align: middle;\n",
       "    }\n",
       "\n",
       "    .dataframe tbody tr th {\n",
       "        vertical-align: top;\n",
       "    }\n",
       "\n",
       "    .dataframe thead th {\n",
       "        text-align: right;\n",
       "    }\n",
       "</style>\n",
       "<table border=\"1\" class=\"dataframe\">\n",
       "  <thead>\n",
       "    <tr style=\"text-align: right;\">\n",
       "      <th></th>\n",
       "      <th>objectID</th>\n",
       "      <th>mjd</th>\n",
       "      <th>psMag</th>\n",
       "      <th>psMagErr</th>\n",
       "      <th>flags</th>\n",
       "      <th>psFlux</th>\n",
       "      <th>psFluxErr</th>\n",
       "      <th>psDiffFlux</th>\n",
       "      <th>psDiffFluxErr</th>\n",
       "      <th>filter</th>\n",
       "      <th>...</th>\n",
       "      <th>lcPeriodic[30]_r</th>\n",
       "      <th>lcPeriodic[30]_i</th>\n",
       "      <th>stdColor_0</th>\n",
       "      <th>stdColor_1</th>\n",
       "      <th>stdColor_2</th>\n",
       "      <th>stdColor_3</th>\n",
       "      <th>stdColor_4</th>\n",
       "      <th>class</th>\n",
       "      <th>label</th>\n",
       "      <th>objectId</th>\n",
       "    </tr>\n",
       "  </thead>\n",
       "  <tbody>\n",
       "    <tr>\n",
       "      <th>0</th>\n",
       "      <td>0271390</td>\n",
       "      <td>52910.29</td>\n",
       "      <td>19.501230</td>\n",
       "      <td>0.034073</td>\n",
       "      <td>275146375168</td>\n",
       "      <td>55398.722656</td>\n",
       "      <td>1738.833740</td>\n",
       "      <td>-719.77344</td>\n",
       "      <td>3034.91448</td>\n",
       "      <td>0</td>\n",
       "      <td>...</td>\n",
       "      <td>0.940343</td>\n",
       "      <td>1.459028</td>\n",
       "      <td>1.318985</td>\n",
       "      <td>0.514469</td>\n",
       "      <td>0.154915</td>\n",
       "      <td>0.077669</td>\n",
       "      <td>-0.012270</td>\n",
       "      <td>Star</td>\n",
       "      <td>0.0</td>\n",
       "      <td>0271390</td>\n",
       "    </tr>\n",
       "    <tr>\n",
       "      <th>1</th>\n",
       "      <td>0271390</td>\n",
       "      <td>53697.23</td>\n",
       "      <td>19.612656</td>\n",
       "      <td>0.035236</td>\n",
       "      <td>275347701832</td>\n",
       "      <td>49994.535156</td>\n",
       "      <td>1622.817017</td>\n",
       "      <td>-6123.96094</td>\n",
       "      <td>2969.96597</td>\n",
       "      <td>0</td>\n",
       "      <td>...</td>\n",
       "      <td>0.940343</td>\n",
       "      <td>1.459028</td>\n",
       "      <td>1.318985</td>\n",
       "      <td>0.514469</td>\n",
       "      <td>0.154915</td>\n",
       "      <td>0.077669</td>\n",
       "      <td>-0.012270</td>\n",
       "      <td>Star</td>\n",
       "      <td>0.0</td>\n",
       "      <td>0271390</td>\n",
       "    </tr>\n",
       "    <tr>\n",
       "      <th>2</th>\n",
       "      <td>0271390</td>\n",
       "      <td>52959.16</td>\n",
       "      <td>19.425041</td>\n",
       "      <td>0.032421</td>\n",
       "      <td>275146375168</td>\n",
       "      <td>59426.484375</td>\n",
       "      <td>1774.768188</td>\n",
       "      <td>3307.98828</td>\n",
       "      <td>3055.64480</td>\n",
       "      <td>0</td>\n",
       "      <td>...</td>\n",
       "      <td>0.940343</td>\n",
       "      <td>1.459028</td>\n",
       "      <td>1.318985</td>\n",
       "      <td>0.514469</td>\n",
       "      <td>0.154915</td>\n",
       "      <td>0.077669</td>\n",
       "      <td>-0.012270</td>\n",
       "      <td>Star</td>\n",
       "      <td>0.0</td>\n",
       "      <td>0271390</td>\n",
       "    </tr>\n",
       "    <tr>\n",
       "      <th>3</th>\n",
       "      <td>0271390</td>\n",
       "      <td>52931.22</td>\n",
       "      <td>19.437639</td>\n",
       "      <td>0.032812</td>\n",
       "      <td>275146375168</td>\n",
       "      <td>58740.765625</td>\n",
       "      <td>1775.432495</td>\n",
       "      <td>2622.26953</td>\n",
       "      <td>3056.03070</td>\n",
       "      <td>0</td>\n",
       "      <td>...</td>\n",
       "      <td>0.940343</td>\n",
       "      <td>1.459028</td>\n",
       "      <td>1.318985</td>\n",
       "      <td>0.514469</td>\n",
       "      <td>0.154915</td>\n",
       "      <td>0.077669</td>\n",
       "      <td>-0.012270</td>\n",
       "      <td>Star</td>\n",
       "      <td>0.0</td>\n",
       "      <td>0271390</td>\n",
       "    </tr>\n",
       "    <tr>\n",
       "      <th>4</th>\n",
       "      <td>0271390</td>\n",
       "      <td>52577.21</td>\n",
       "      <td>19.445431</td>\n",
       "      <td>0.028921</td>\n",
       "      <td>268468240</td>\n",
       "      <td>58320.722656</td>\n",
       "      <td>1553.747070</td>\n",
       "      <td>2202.22656</td>\n",
       "      <td>2932.79613</td>\n",
       "      <td>0</td>\n",
       "      <td>...</td>\n",
       "      <td>0.940343</td>\n",
       "      <td>1.459028</td>\n",
       "      <td>1.318985</td>\n",
       "      <td>0.514469</td>\n",
       "      <td>0.154915</td>\n",
       "      <td>0.077669</td>\n",
       "      <td>-0.012270</td>\n",
       "      <td>Star</td>\n",
       "      <td>0.0</td>\n",
       "      <td>0271390</td>\n",
       "    </tr>\n",
       "    <tr>\n",
       "      <th>...</th>\n",
       "      <td>...</td>\n",
       "      <td>...</td>\n",
       "      <td>...</td>\n",
       "      <td>...</td>\n",
       "      <td>...</td>\n",
       "      <td>...</td>\n",
       "      <td>...</td>\n",
       "      <td>...</td>\n",
       "      <td>...</td>\n",
       "      <td>...</td>\n",
       "      <td>...</td>\n",
       "      <td>...</td>\n",
       "      <td>...</td>\n",
       "      <td>...</td>\n",
       "      <td>...</td>\n",
       "      <td>...</td>\n",
       "      <td>...</td>\n",
       "      <td>...</td>\n",
       "      <td>...</td>\n",
       "      <td>...</td>\n",
       "      <td>...</td>\n",
       "    </tr>\n",
       "    <tr>\n",
       "      <th>6917243</th>\n",
       "      <td>1467484</td>\n",
       "      <td>54063.10</td>\n",
       "      <td>18.422138</td>\n",
       "      <td>0.023791</td>\n",
       "      <td>275146375168</td>\n",
       "      <td>149680.828125</td>\n",
       "      <td>3279.960205</td>\n",
       "      <td>378.67188</td>\n",
       "      <td>5793.80224</td>\n",
       "      <td>0</td>\n",
       "      <td>...</td>\n",
       "      <td>0.628451</td>\n",
       "      <td>0.691528</td>\n",
       "      <td>-0.066649</td>\n",
       "      <td>0.049988</td>\n",
       "      <td>0.063833</td>\n",
       "      <td>0.101006</td>\n",
       "      <td>-0.086201</td>\n",
       "      <td>Qso</td>\n",
       "      <td>2.0</td>\n",
       "      <td>1467484</td>\n",
       "    </tr>\n",
       "    <tr>\n",
       "      <th>6917244</th>\n",
       "      <td>1467484</td>\n",
       "      <td>53997.15</td>\n",
       "      <td>18.009857</td>\n",
       "      <td>0.032402</td>\n",
       "      <td>268468240</td>\n",
       "      <td>218816.906250</td>\n",
       "      <td>6530.282715</td>\n",
       "      <td>69514.75000</td>\n",
       "      <td>8090.40144</td>\n",
       "      <td>0</td>\n",
       "      <td>...</td>\n",
       "      <td>0.628451</td>\n",
       "      <td>0.691528</td>\n",
       "      <td>-0.066649</td>\n",
       "      <td>0.049988</td>\n",
       "      <td>0.063833</td>\n",
       "      <td>0.101006</td>\n",
       "      <td>-0.086201</td>\n",
       "      <td>Qso</td>\n",
       "      <td>2.0</td>\n",
       "      <td>1467484</td>\n",
       "    </tr>\n",
       "    <tr>\n",
       "      <th>6917245</th>\n",
       "      <td>1467484</td>\n",
       "      <td>53270.15</td>\n",
       "      <td>18.238674</td>\n",
       "      <td>0.024873</td>\n",
       "      <td>268468240</td>\n",
       "      <td>177236.343750</td>\n",
       "      <td>4060.333740</td>\n",
       "      <td>27934.17188</td>\n",
       "      <td>6268.67717</td>\n",
       "      <td>0</td>\n",
       "      <td>...</td>\n",
       "      <td>0.628451</td>\n",
       "      <td>0.691528</td>\n",
       "      <td>-0.066649</td>\n",
       "      <td>0.049988</td>\n",
       "      <td>0.063833</td>\n",
       "      <td>0.101006</td>\n",
       "      <td>-0.086201</td>\n",
       "      <td>Qso</td>\n",
       "      <td>2.0</td>\n",
       "      <td>1467484</td>\n",
       "    </tr>\n",
       "    <tr>\n",
       "      <th>6917246</th>\n",
       "      <td>1467484</td>\n",
       "      <td>54058.11</td>\n",
       "      <td>18.449280</td>\n",
       "      <td>0.020065</td>\n",
       "      <td>268599312</td>\n",
       "      <td>145985.437500</td>\n",
       "      <td>2698.006348</td>\n",
       "      <td>-3316.71875</td>\n",
       "      <td>5485.36616</td>\n",
       "      <td>0</td>\n",
       "      <td>...</td>\n",
       "      <td>0.628451</td>\n",
       "      <td>0.691528</td>\n",
       "      <td>-0.066649</td>\n",
       "      <td>0.049988</td>\n",
       "      <td>0.063833</td>\n",
       "      <td>0.101006</td>\n",
       "      <td>-0.086201</td>\n",
       "      <td>Qso</td>\n",
       "      <td>2.0</td>\n",
       "      <td>1467484</td>\n",
       "    </tr>\n",
       "    <tr>\n",
       "      <th>6917247</th>\n",
       "      <td>1467484</td>\n",
       "      <td>54382.20</td>\n",
       "      <td>18.504278</td>\n",
       "      <td>0.054756</td>\n",
       "      <td>268468224</td>\n",
       "      <td>138774.250000</td>\n",
       "      <td>6998.886230</td>\n",
       "      <td>-10527.90625</td>\n",
       "      <td>8473.15829</td>\n",
       "      <td>0</td>\n",
       "      <td>...</td>\n",
       "      <td>0.628451</td>\n",
       "      <td>0.691528</td>\n",
       "      <td>-0.066649</td>\n",
       "      <td>0.049988</td>\n",
       "      <td>0.063833</td>\n",
       "      <td>0.101006</td>\n",
       "      <td>-0.086201</td>\n",
       "      <td>Qso</td>\n",
       "      <td>2.0</td>\n",
       "      <td>1467484</td>\n",
       "    </tr>\n",
       "  </tbody>\n",
       "</table>\n",
       "<p>6917248 rows × 75 columns</p>\n",
       "</div>"
      ],
      "text/plain": [
       "        objectID       mjd      psMag  psMagErr         flags         psFlux   \n",
       "0        0271390  52910.29  19.501230  0.034073  275146375168   55398.722656  \\\n",
       "1        0271390  53697.23  19.612656  0.035236  275347701832   49994.535156   \n",
       "2        0271390  52959.16  19.425041  0.032421  275146375168   59426.484375   \n",
       "3        0271390  52931.22  19.437639  0.032812  275146375168   58740.765625   \n",
       "4        0271390  52577.21  19.445431  0.028921     268468240   58320.722656   \n",
       "...          ...       ...        ...       ...           ...            ...   \n",
       "6917243  1467484  54063.10  18.422138  0.023791  275146375168  149680.828125   \n",
       "6917244  1467484  53997.15  18.009857  0.032402     268468240  218816.906250   \n",
       "6917245  1467484  53270.15  18.238674  0.024873     268468240  177236.343750   \n",
       "6917246  1467484  54058.11  18.449280  0.020065     268599312  145985.437500   \n",
       "6917247  1467484  54382.20  18.504278  0.054756     268468224  138774.250000   \n",
       "\n",
       "           psFluxErr   psDiffFlux  psDiffFluxErr  filter  ...   \n",
       "0        1738.833740   -719.77344     3034.91448       0  ...  \\\n",
       "1        1622.817017  -6123.96094     2969.96597       0  ...   \n",
       "2        1774.768188   3307.98828     3055.64480       0  ...   \n",
       "3        1775.432495   2622.26953     3056.03070       0  ...   \n",
       "4        1553.747070   2202.22656     2932.79613       0  ...   \n",
       "...              ...          ...            ...     ...  ...   \n",
       "6917243  3279.960205    378.67188     5793.80224       0  ...   \n",
       "6917244  6530.282715  69514.75000     8090.40144       0  ...   \n",
       "6917245  4060.333740  27934.17188     6268.67717       0  ...   \n",
       "6917246  2698.006348  -3316.71875     5485.36616       0  ...   \n",
       "6917247  6998.886230 -10527.90625     8473.15829       0  ...   \n",
       "\n",
       "         lcPeriodic[30]_r  lcPeriodic[30]_i  stdColor_0  stdColor_1   \n",
       "0                0.940343          1.459028    1.318985    0.514469  \\\n",
       "1                0.940343          1.459028    1.318985    0.514469   \n",
       "2                0.940343          1.459028    1.318985    0.514469   \n",
       "3                0.940343          1.459028    1.318985    0.514469   \n",
       "4                0.940343          1.459028    1.318985    0.514469   \n",
       "...                   ...               ...         ...         ...   \n",
       "6917243          0.628451          0.691528   -0.066649    0.049988   \n",
       "6917244          0.628451          0.691528   -0.066649    0.049988   \n",
       "6917245          0.628451          0.691528   -0.066649    0.049988   \n",
       "6917246          0.628451          0.691528   -0.066649    0.049988   \n",
       "6917247          0.628451          0.691528   -0.066649    0.049988   \n",
       "\n",
       "         stdColor_2  stdColor_3  stdColor_4  class  label  objectId  \n",
       "0          0.154915    0.077669   -0.012270   Star    0.0   0271390  \n",
       "1          0.154915    0.077669   -0.012270   Star    0.0   0271390  \n",
       "2          0.154915    0.077669   -0.012270   Star    0.0   0271390  \n",
       "3          0.154915    0.077669   -0.012270   Star    0.0   0271390  \n",
       "4          0.154915    0.077669   -0.012270   Star    0.0   0271390  \n",
       "...             ...         ...         ...    ...    ...       ...  \n",
       "6917243    0.063833    0.101006   -0.086201    Qso    2.0   1467484  \n",
       "6917244    0.063833    0.101006   -0.086201    Qso    2.0   1467484  \n",
       "6917245    0.063833    0.101006   -0.086201    Qso    2.0   1467484  \n",
       "6917246    0.063833    0.101006   -0.086201    Qso    2.0   1467484  \n",
       "6917247    0.063833    0.101006   -0.086201    Qso    2.0   1467484  \n",
       "\n",
       "[6917248 rows x 75 columns]"
      ]
     },
     "execution_count": 47,
     "metadata": {},
     "output_type": "execute_result"
    }
   ],
   "source": [
    "g"
   ]
  },
  {
   "cell_type": "code",
   "execution_count": 49,
   "metadata": {},
   "outputs": [],
   "source": [
    "?pd.ser"
   ]
  },
  {
   "cell_type": "code",
   "execution_count": 50,
   "metadata": {},
   "outputs": [
    {
     "data": {
      "text/plain": [
       "True"
      ]
     },
     "execution_count": 50,
     "metadata": {},
     "output_type": "execute_result"
    }
   ],
   "source": [
    "x is not None"
   ]
  },
  {
   "cell_type": "code",
   "execution_count": null,
   "metadata": {},
   "outputs": [],
   "source": []
  }
 ],
 "metadata": {
  "kernelspec": {
   "display_name": "Python 3",
   "language": "python",
   "name": "python3"
  },
  "language_info": {
   "codemirror_mode": {
    "name": "ipython",
    "version": 3
   },
   "file_extension": ".py",
   "mimetype": "text/x-python",
   "name": "python",
   "nbconvert_exporter": "python",
   "pygments_lexer": "ipython3",
   "version": "3.10.12"
  }
 },
 "nbformat": 4,
 "nbformat_minor": 2
}
