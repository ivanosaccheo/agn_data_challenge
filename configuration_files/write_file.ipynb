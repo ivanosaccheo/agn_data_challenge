{
 "cells": [
  {
   "cell_type": "code",
   "execution_count": 12,
   "metadata": {},
   "outputs": [],
   "source": [
    "import configparser"
   ]
  },
  {
   "cell_type": "code",
   "execution_count": 14,
   "metadata": {},
   "outputs": [],
   "source": [
    "config = configparser.ConfigParser()\n",
    "config['MODEL'] = {'hidden_sizes': [300, 200, 100],\n",
    "\n",
    "                     'latent_size': 60}\n",
    "\n",
    "config['TRAINING'] = {\"batch_size\" : 50,\n",
    "                      \"N_epochs\" : 200}\n",
    "\n",
    "config[\"SAMPLE\"] = {\"validation_size\" : 0.5,\n",
    "                    \"test_size\" :  0.1,\n",
    "                    \"shuffle_random_state\" : 2121805, \n",
    "                    \"split_random_state_1\" : 14101806,\n",
    "                   \"split_random_state_2 \": 14061807}\n",
    "\n",
    "\n",
    "with open('#autoencoder.ini', 'w') as configfile:\n",
    "\n",
    "  config.write(configfile)"
   ]
  },
  {
   "cell_type": "code",
   "execution_count": 9,
   "metadata": {},
   "outputs": [],
   "source": [
    "import ast"
   ]
  },
  {
   "cell_type": "code",
   "execution_count": 10,
   "metadata": {},
   "outputs": [
    {
     "data": {
      "text/plain": [
       "[300, 200, 100, 500]"
      ]
     },
     "execution_count": 10,
     "metadata": {},
     "output_type": "execute_result"
    }
   ],
   "source": [
    "ast.literal_eval(b)"
   ]
  },
  {
   "cell_type": "code",
   "execution_count": 11,
   "metadata": {},
   "outputs": [
    {
     "name": "stdout",
     "output_type": "stream",
     "text": [
      "\u001b[0;31mSignature:\u001b[0m \u001b[0mast\u001b[0m\u001b[0;34m.\u001b[0m\u001b[0mliteral_eval\u001b[0m\u001b[0;34m(\u001b[0m\u001b[0mnode_or_string\u001b[0m\u001b[0;34m)\u001b[0m\u001b[0;34m\u001b[0m\u001b[0;34m\u001b[0m\u001b[0m\n",
      "\u001b[0;31mDocstring:\u001b[0m\n",
      "Evaluate an expression node or a string containing only a Python\n",
      "expression.  The string or node provided may only consist of the following\n",
      "Python literal structures: strings, bytes, numbers, tuples, lists, dicts,\n",
      "sets, booleans, and None.\n",
      "\n",
      "Caution: A complex expression can overflow the C stack and cause a crash.\n",
      "\u001b[0;31mFile:\u001b[0m      /usr/lib/python3.10/ast.py\n",
      "\u001b[0;31mType:\u001b[0m      function"
     ]
    }
   ],
   "source": [
    "?ast.literal_eval"
   ]
  },
  {
   "cell_type": "code",
   "execution_count": null,
   "metadata": {},
   "outputs": [],
   "source": []
  }
 ],
 "metadata": {
  "kernelspec": {
   "display_name": "Python 3",
   "language": "python",
   "name": "python3"
  },
  "language_info": {
   "codemirror_mode": {
    "name": "ipython",
    "version": 3
   },
   "file_extension": ".py",
   "mimetype": "text/x-python",
   "name": "python",
   "nbconvert_exporter": "python",
   "pygments_lexer": "ipython3",
   "version": "3.10.12"
  }
 },
 "nbformat": 4,
 "nbformat_minor": 2
}
