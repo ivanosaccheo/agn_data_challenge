{
 "cells": [
  {
   "cell_type": "code",
   "execution_count": 21,
   "metadata": {},
   "outputs": [],
   "source": [
    "import data_challenge_library as dcl\n",
    "import numpy as np\n",
    "import pandas as pd\n",
    "import matplotlib.pyplot as plt\n",
    "import matplotlib as mpl\n",
    "from sklearn.preprocessing import StandardScaler\n",
    "from sklearn.model_selection import train_test_split\n",
    "from MuyGPyS.examples.classify import do_classify\n",
    "from sklearn.preprocessing import LabelBinarizer\n",
    "from sklearn.utils import shuffle\n",
    "from MuyGPyS.gp.deformation import F2, Isotropy\n",
    "from MuyGPyS.gp.hyperparameter import Parameter\n",
    "from MuyGPyS.gp.kernels import RBF\n",
    "from MuyGPyS.gp.noise import HomoscedasticNoise\n",
    "#from MuyGPyS.optimize import Bayes_optimize\n",
    "from sklearn.metrics import accuracy_score, f1_score\n",
    "from sklearn.metrics import confusion_matrix, ConfusionMatrixDisplay\n"
   ]
  },
  {
   "cell_type": "code",
   "execution_count": 2,
   "metadata": {},
   "outputs": [
    {
     "name": "stdout",
     "output_type": "stream",
     "text": [
      "table has 446487 sources\n",
      "class\n",
      "Gal         246225\n",
      "Star         96715\n",
      "Qso          83130\n",
      "Agn           5608\n",
      "highZQso      1089\n",
      "Name: count, dtype: int64\n",
      "Keeping 432767 labeled sources\n",
      "Keeping 142963 with all features used in Savic+23\n",
      "Keeping 142963 with available cutouts\n"
     ]
    }
   ],
   "source": [
    "object_table = dcl.load_table(have_images = True)\n",
    "object_table, validation_table = train_test_split(object_table, test_size = 0.1, random_state= 2121805)"
   ]
  },
  {
   "cell_type": "code",
   "execution_count": 3,
   "metadata": {},
   "outputs": [],
   "source": [
    "X = object_table.drop(columns=[\"class\", \"label\"])\n",
    "y = object_table[\"label\"].to_numpy().astype('int32')\n",
    "objectID = object_table.index\n",
    "X, y, objectID = shuffle(X, y, objectID, random_state = 2605)"
   ]
  },
  {
   "cell_type": "code",
   "execution_count": 7,
   "metadata": {},
   "outputs": [
    {
     "data": {
      "text/plain": [
       "(64333, 62)"
      ]
     },
     "metadata": {},
     "output_type": "display_data"
    },
    {
     "data": {
      "text/plain": [
       "(64333, 62)"
      ]
     },
     "metadata": {},
     "output_type": "display_data"
    }
   ],
   "source": [
    "X_train, X_test, y_train, y_test, objectID_train, objectID_test = train_test_split(X, y, \n",
    "                                objectID, test_size = 0.5, random_state = 1406)\n",
    "scaler = StandardScaler()\n",
    "scaler.fit(X_train)\n",
    "X_train = scaler.transform(X_train)\n",
    "X_test = scaler.transform(X_test)\n",
    "display(X_train.shape, X_test.shape)"
   ]
  },
  {
   "cell_type": "code",
   "execution_count": 8,
   "metadata": {},
   "outputs": [],
   "source": [
    "## Trassforming to One hot \n",
    "enc = LabelBinarizer()\n",
    "y_h_test = enc.fit_transform(y_test)\n",
    "y_h_train = enc.fit_transform(y_train)"
   ]
  },
  {
   "cell_type": "code",
   "execution_count": 13,
   "metadata": {},
   "outputs": [],
   "source": [
    "nn_kwargs = {\"nn_method\": \"exact\", \"algorithm\": \"ball_tree\"}\n",
    "k_kwargs = { \"kernel\": RBF( deformation= Isotropy(metric=F2,length_scale=Parameter(0.5, (0.01, 1)))),\n",
    "             \"noise\": HomoscedasticNoise(1e-5)}"
   ]
  },
  {
   "cell_type": "code",
   "execution_count": 14,
   "metadata": {},
   "outputs": [
    {
     "name": "stdout",
     "output_type": "stream",
     "text": [
      "Data point [1.] is not unique. 1 duplicates registered. Continuing ...\n",
      "Data point [1.] is not unique. 2 duplicates registered. Continuing ...\n",
      "Data point [1.] is not unique. 3 duplicates registered. Continuing ...\n",
      "Data point [1.] is not unique. 4 duplicates registered. Continuing ...\n",
      "Data point [1.] is not unique. 5 duplicates registered. Continuing ...\n",
      "Data point [1.] is not unique. 6 duplicates registered. Continuing ...\n",
      "Data point [1.] is not unique. 7 duplicates registered. Continuing ...\n",
      "Data point [1.] is not unique. 8 duplicates registered. Continuing ...\n",
      "Data point [1.] is not unique. 9 duplicates registered. Continuing ...\n",
      "Data point [1.] is not unique. 10 duplicates registered. Continuing ...\n",
      "Data point [1.] is not unique. 11 duplicates registered. Continuing ...\n",
      "Data point [1.] is not unique. 12 duplicates registered. Continuing ...\n",
      "Data point [1.] is not unique. 13 duplicates registered. Continuing ...\n",
      "Data point [1.] is not unique. 14 duplicates registered. Continuing ...\n",
      "Data point [1.] is not unique. 15 duplicates registered. Continuing ...\n"
     ]
    }
   ],
   "source": [
    "muygps, nbrs_lookup, surrogate_predictions = do_classify(test_features=X_test, train_features=X_train, \n",
    "                                                             train_labels=y_h_train,  nn_count=30, verbose=False,\n",
    "                                                             nn_kwargs=nn_kwargs, k_kwargs=k_kwargs) "
   ]
  },
  {
   "cell_type": "code",
   "execution_count": 17,
   "metadata": {},
   "outputs": [],
   "source": [
    "predictions = np.argmax(surrogate_predictions, axis = 1)"
   ]
  },
  {
   "cell_type": "code",
   "execution_count": 22,
   "metadata": {},
   "outputs": [
    {
     "name": "stdout",
     "output_type": "stream",
     "text": [
      "[0.98939596 0.97352512 0.94894532]\n",
      "MuyGPy provided 0.9741190368862015 overall as accuracy\n"
     ]
    },
    {
     "data": {
      "image/png": "[encoded data removed]",
      "text/plain": [
       "<Figure size 640x480 with 2 Axes>"
      ]
     },
     "metadata": {},
     "output_type": "display_data"
    }
   ],
   "source": [
    "cf = confusion_matrix(y_test, predictions, normalize = \"true\")\n",
    "str_labels = ['Star', 'Gal', 'Qso/Agn']\n",
    "accuracy = cf.diagonal()/cf.sum(axis=1)\n",
    "print(accuracy)\n",
    "print(f\"MuyGPy provided {accuracy_score(y_test, predictions)} overall as accuracy\")\n",
    "ConfusionMatrixDisplay(cf, display_labels=str_labels).plot(cmap=mpl.cm.Blues);"
   ]
  },
  {
   "cell_type": "markdown",
   "metadata": {},
   "source": [
    "## Use Images"
   ]
  },
  {
   "cell_type": "code",
   "execution_count": 37,
   "metadata": {},
   "outputs": [],
   "source": [
    "from torch import nn\n",
    "import torch\n",
    "from torch.nn.functional import one_hot\n",
    "from torch.optim.lr_scheduler import ExponentialLR\n",
    "from MuyGPyS.neighbors import NN_Wrapper"
   ]
  },
  {
   "cell_type": "code",
   "execution_count": 26,
   "metadata": {},
   "outputs": [],
   "source": [
    "train_images = dcl.load_images(objectID_train, as_tensor = True)\n",
    "test_images = dcl.load_images(objectID_test, as_tensor=True)"
   ]
  },
  {
   "cell_type": "code",
   "execution_count": 33,
   "metadata": {},
   "outputs": [],
   "source": [
    "y_h_test = one_hot(torch.tensor(y_test, dtype = torch.int64))\n",
    "y_h_train = one_hot(torch.tensor(y_train, dtype = torch.int64))"
   ]
  },
  {
   "cell_type": "code",
   "execution_count": 38,
   "metadata": {},
   "outputs": [
    {
     "ename": "ValueError",
     "evalue": "too many values to unpack (expected 2)",
     "output_type": "error",
     "traceback": [
      "\u001b[0;31m---------------------------------------------------------------------------\u001b[0m",
      "\u001b[0;31mValueError\u001b[0m                                Traceback (most recent call last)",
      "Cell \u001b[0;32mIn[38], line 2\u001b[0m\n\u001b[1;32m      1\u001b[0m nn_count \u001b[38;5;241m=\u001b[39m \u001b[38;5;241m30\u001b[39m\n\u001b[0;32m----> 2\u001b[0m nbrs_lookup \u001b[38;5;241m=\u001b[39m \u001b[43mNN_Wrapper\u001b[49m\u001b[43m(\u001b[49m\u001b[43mtrain_images\u001b[49m\u001b[43m,\u001b[49m\u001b[43m \u001b[49m\u001b[43mnn_count\u001b[49m\u001b[43m,\u001b[49m\u001b[43m \u001b[49m\u001b[43mnn_method\u001b[49m\u001b[38;5;241;43m=\u001b[39;49m\u001b[38;5;124;43m\"\u001b[39;49m\u001b[38;5;124;43mexact\u001b[39;49m\u001b[38;5;124;43m\"\u001b[39;49m\u001b[43m)\u001b[49m\n",
      "File \u001b[0;32m~/.local/lib/python3.10/site-packages/MuyGPyS/neighbors.py:84\u001b[0m, in \u001b[0;36mNN_Wrapper.__init__\u001b[0;34m(self, train, nn_count, nn_method, **kwargs)\u001b[0m\n\u001b[1;32m     80\u001b[0m \u001b[38;5;250m\u001b[39m\u001b[38;5;124;03m\"\"\"\u001b[39;00m\n\u001b[1;32m     81\u001b[0m \u001b[38;5;124;03mNOTE[bwp] Will need to replace `train` with a data stream in the future.\u001b[39;00m\n\u001b[1;32m     82\u001b[0m \u001b[38;5;124;03m\"\"\"\u001b[39;00m\n\u001b[1;32m     83\u001b[0m \u001b[38;5;28mself\u001b[39m\u001b[38;5;241m.\u001b[39mtrain \u001b[38;5;241m=\u001b[39m train\n\u001b[0;32m---> 84\u001b[0m \u001b[38;5;28mself\u001b[39m\u001b[38;5;241m.\u001b[39mtrain_count, \u001b[38;5;28mself\u001b[39m\u001b[38;5;241m.\u001b[39mfeature_count \u001b[38;5;241m=\u001b[39m \u001b[38;5;28mself\u001b[39m\u001b[38;5;241m.\u001b[39mtrain\u001b[38;5;241m.\u001b[39mshape\n\u001b[1;32m     85\u001b[0m \u001b[38;5;28mself\u001b[39m\u001b[38;5;241m.\u001b[39mnn_count \u001b[38;5;241m=\u001b[39m nn_count\n\u001b[1;32m     86\u001b[0m \u001b[38;5;28mself\u001b[39m\u001b[38;5;241m.\u001b[39mnn_method \u001b[38;5;241m=\u001b[39m nn_method\u001b[38;5;241m.\u001b[39mlower()\n",
      "\u001b[0;31mValueError\u001b[0m: too many values to unpack (expected 2)"
     ]
    }
   ],
   "source": [
    "nn_count = 30\n",
    "nbrs_lookup = NN_Wrapper(train_images, nn_count, nn_method=\"exact\")\n"
   ]
  },
  {
   "cell_type": "code",
   "execution_count": 35,
   "metadata": {},
   "outputs": [],
   "source": [
    "from MuyGPyS.neighbors import NN_Wrapper"
   ]
  },
  {
   "cell_type": "code",
   "execution_count": 36,
   "metadata": {},
   "outputs": [
    {
     "name": "stdout",
     "output_type": "stream",
     "text": [
      "\u001b[0;31mInit signature:\u001b[0m\n",
      "\u001b[0mNN_Wrapper\u001b[0m\u001b[0;34m(\u001b[0m\u001b[0;34m\u001b[0m\n",
      "\u001b[0;34m\u001b[0m    \u001b[0mtrain\u001b[0m\u001b[0;34m:\u001b[0m \u001b[0mnumpy\u001b[0m\u001b[0;34m.\u001b[0m\u001b[0mndarray\u001b[0m\u001b[0;34m,\u001b[0m\u001b[0;34m\u001b[0m\n",
      "\u001b[0;34m\u001b[0m    \u001b[0mnn_count\u001b[0m\u001b[0;34m:\u001b[0m \u001b[0mint\u001b[0m\u001b[0;34m,\u001b[0m\u001b[0;34m\u001b[0m\n",
      "\u001b[0;34m\u001b[0m    \u001b[0mnn_method\u001b[0m\u001b[0;34m:\u001b[0m \u001b[0mstr\u001b[0m \u001b[0;34m=\u001b[0m \u001b[0;34m'exact'\u001b[0m\u001b[0;34m,\u001b[0m\u001b[0;34m\u001b[0m\n",
      "\u001b[0;34m\u001b[0m    \u001b[0;34m**\u001b[0m\u001b[0mkwargs\u001b[0m\u001b[0;34m,\u001b[0m\u001b[0;34m\u001b[0m\n",
      "\u001b[0;34m\u001b[0m\u001b[0;34m)\u001b[0m\u001b[0;34m\u001b[0m\u001b[0;34m\u001b[0m\u001b[0m\n",
      "\u001b[0;31mDocstring:\u001b[0m     \n",
      "Nearest Neighbors lookup datastructure wrapper.\n",
      "\n",
      "Wraps the logic driving nearest neighbor data structure training and\n",
      "querying. Currently supports `sklearn.neighbors.NearestNeighbors` for exact\n",
      "computation and `hnswlib.Index` for approximate nearest neighbors.\n",
      "\n",
      "An example constructing exact and approximate KNN data lookups with k = 10.\n",
      "\n",
      "Example:\n",
      "    >>> from MuyGPyS.neighors import NN_Wrapper\n",
      "    >>> train_features = load_train_features()\n",
      "    >>> nn_count = 10\n",
      "    >>> exact_nbrs_lookup = NN_Wrapper(\n",
      "    ...         train_features, nn_count, nn_method=\"exact\", algorithm=\"ball_tree\"\n",
      "    ... )\n",
      "    >>> approx_nbrs_lookup = NN_Wrapper(\n",
      "    ...         train_features, nn_count, nn_method=\"hnsw\", space=\"l2\", M=16\n",
      "    ... )\n",
      "\n",
      "\n",
      "Args:\n",
      "    train:\n",
      "        The full training data of shape `(train_count, feature_count)` that\n",
      "        will construct the nearest neighbor query datastructure.\n",
      "    nn_count:\n",
      "        The number of nearest neighbors to return in queries.\n",
      "    nn_method:\n",
      "        Indicates which nearest neighbor algorithm should be used.\n",
      "        Currently \"exact\" indicates `sklearn.neighbors.NearestNeighbors`,\n",
      "        while \"hnsw\" indicates `hnswlib.Index` (requires installing MuyGPyS\n",
      "        with the \"hnswlib\" extras flag).\n",
      "    kwargs:\n",
      "        Additional kwargs used for lookup data structure construction.\n",
      "        `nn_method=\"exact\"` supports \"radius\", \"algorithm\", \"leaf_size\",\n",
      "        \"metric\", \"p\", \"metric_params\", and \"n_jobs\" kwargs.\n",
      "        `nn_method=\"hnsw\"` supports \"space\", \"ef_construction\", \"M\", and\n",
      "        \"random_seed\" kwargs.\n",
      "\u001b[0;31mInit docstring:\u001b[0m NOTE[bwp] Will need to replace `train` with a data stream in the future.\n",
      "\u001b[0;31mFile:\u001b[0m           ~/.local/lib/python3.10/site-packages/MuyGPyS/neighbors.py\n",
      "\u001b[0;31mType:\u001b[0m           type\n",
      "\u001b[0;31mSubclasses:\u001b[0m     "
     ]
    }
   ],
   "source": [
    "?NN_Wrapper"
   ]
  },
  {
   "cell_type": "code",
   "execution_count": null,
   "metadata": {},
   "outputs": [],
   "source": []
  }
 ],
 "metadata": {
  "kernelspec": {
   "display_name": "Python 3",
   "language": "python",
   "name": "python3"
  },
  "language_info": {
   "codemirror_mode": {
    "name": "ipython",
    "version": 3
   },
   "file_extension": ".py",
   "mimetype": "text/x-python",
   "name": "python",
   "nbconvert_exporter": "python",
   "pygments_lexer": "ipython3",
   "version": "3.10.12"
  }
 },
 "nbformat": 4,
 "nbformat_minor": 2
}
