{
 "cells": [
  {
   "cell_type": "code",
   "execution_count": 1,
   "id": "e263c474-76a2-4f9e-ac00-8d79bdf5e401",
   "metadata": {
    "execution": {
     "iopub.execute_input": "2023-10-26T10:18:35.011467Z",
     "iopub.status.busy": "2023-10-26T10:18:35.010881Z",
     "iopub.status.idle": "2023-10-26T10:18:38.467836Z",
     "shell.execute_reply": "2023-10-26T10:18:38.467140Z",
     "shell.execute_reply.started": "2023-10-26T10:18:35.011441Z"
    },
    "tags": []
   },
   "outputs": [],
   "source": [
    "import pandas as pd\n",
    "import os\n",
    "import matplotlib.pyplot as plt\n",
    "import numpy as np\n",
    "from sklearn.preprocessing import StandardScaler\n",
    "import copy\n",
    "from torch.utils.data import DataLoader,  TensorDataset\n",
    "from sklearn.utils import shuffle\n",
    "import torch.nn as nn\n",
    "import torch.nn.functional as F\n",
    "import torch\n",
    "from sklearn import linear_model\n",
    "from sklearn import model_selection\n",
    "from torchsummary import summary\n",
    "from sklearn.model_selection import train_test_split\n",
    "from sklearn.metrics import accuracy_score, f1_score\n",
    "from sklearn.metrics import confusion_matrix, ConfusionMatrixDisplay\n",
    "import dc_library as dcl"
   ]
  },
  {
   "cell_type": "code",
   "execution_count": 2,
   "id": "d456b571-fce3-4ac0-a2c4-592e6153789c",
   "metadata": {
    "execution": {
     "iopub.execute_input": "2023-10-26T10:18:39.362764Z",
     "iopub.status.busy": "2023-10-26T10:18:39.362018Z",
     "iopub.status.idle": "2023-10-26T10:18:44.177799Z",
     "shell.execute_reply": "2023-10-26T10:18:44.177112Z",
     "shell.execute_reply.started": "2023-10-26T10:18:39.362736Z"
    },
    "tags": []
   },
   "outputs": [
    {
     "name": "stdout",
     "output_type": "stream",
     "text": [
      "table has 446487 sources\n",
      "class\n",
      "Gal         246225\n",
      "Star         96715\n",
      "Qso          83130\n",
      "Agn           5608\n",
      "highZQso      1089\n",
      "Name: count, dtype: int64\n",
      "Keeping 432767 labeled sources\n",
      "Keeping 142963 with all features used in Savic+23\n",
      "Keeping 142855 with available cutouts\n"
     ]
    }
   ],
   "source": [
    "object_table = dcl.load_table(have_images = True)"
   ]
  },
  {
   "cell_type": "code",
   "execution_count": 3,
   "id": "806e9491-9c35-4c2e-8f42-7dd06614cd0d",
   "metadata": {
    "execution": {
     "iopub.execute_input": "2023-10-26T10:18:44.203860Z",
     "iopub.status.busy": "2023-10-26T10:18:44.203453Z",
     "iopub.status.idle": "2023-10-26T10:18:44.292292Z",
     "shell.execute_reply": "2023-10-26T10:18:44.291583Z",
     "shell.execute_reply.started": "2023-10-26T10:18:44.203839Z"
    },
    "tags": []
   },
   "outputs": [],
   "source": [
    "object_table, validation_table = train_test_split(object_table, test_size = 0.1, random_state= 2121805)"
   ]
  },
  {
   "cell_type": "code",
   "execution_count": 4,
   "id": "0c65bc75-9521-4cda-9f34-a2b6ba9d170d",
   "metadata": {
    "execution": {
     "iopub.execute_input": "2023-10-26T10:18:44.293868Z",
     "iopub.status.busy": "2023-10-26T10:18:44.293549Z",
     "iopub.status.idle": "2023-10-26T10:18:44.394727Z",
     "shell.execute_reply": "2023-10-26T10:18:44.394002Z",
     "shell.execute_reply.started": "2023-10-26T10:18:44.293849Z"
    },
    "tags": []
   },
   "outputs": [],
   "source": [
    "X = object_table.drop(columns=[\"class\", \"label\"])\n",
    "y = object_table[\"label\"].to_numpy().astype('int32')\n",
    "objectID = object_table.index\n",
    "X, y, objectID = shuffle(X, y, objectID, random_state = 2605)"
   ]
  },
  {
   "cell_type": "code",
   "execution_count": 5,
   "id": "dcabd9d7-e86f-4940-9ef7-4fd009b021d8",
   "metadata": {
    "execution": {
     "iopub.execute_input": "2023-10-26T10:18:44.395871Z",
     "iopub.status.busy": "2023-10-26T10:18:44.395570Z",
     "iopub.status.idle": "2023-10-26T10:18:44.571900Z",
     "shell.execute_reply": "2023-10-26T10:18:44.571282Z",
     "shell.execute_reply.started": "2023-10-26T10:18:44.395852Z"
    },
    "tags": []
   },
   "outputs": [
    {
     "data": {
      "text/plain": [
       "(64284, 62)"
      ]
     },
     "metadata": {},
     "output_type": "display_data"
    },
    {
     "data": {
      "text/plain": [
       "(64285, 62)"
      ]
     },
     "metadata": {},
     "output_type": "display_data"
    }
   ],
   "source": [
    "X_train, X_test, y_train, y_test, objectID_train, objectID_test = train_test_split(X, y, \n",
    "                                objectID, test_size = 0.5, random_state = 1406)\n",
    "scaler = StandardScaler()\n",
    "scaler.fit(X_train)\n",
    "X_train = scaler.transform(X_train)\n",
    "X_test = scaler.transform(X_test)\n",
    "display(X_train.shape, X_test.shape)"
   ]
  },
  {
   "cell_type": "code",
   "execution_count": 6,
   "id": "6a8d9e9e-4143-44a3-ac6f-4c40b32615e6",
   "metadata": {
    "execution": {
     "iopub.execute_input": "2023-10-26T10:18:45.885962Z",
     "iopub.status.busy": "2023-10-26T10:18:45.885255Z",
     "iopub.status.idle": "2023-10-26T10:20:05.362614Z",
     "shell.execute_reply": "2023-10-26T10:20:05.361886Z",
     "shell.execute_reply.started": "2023-10-26T10:18:45.885934Z"
    },
    "tags": []
   },
   "outputs": [],
   "source": [
    "images_train = dcl.load_images(objectID_train, as_tensor = True)\n",
    "images_test = dcl.load_images(objectID_test, as_tensor = True)"
   ]
  },
  {
   "cell_type": "code",
   "execution_count": 7,
   "id": "472c309d-f3fc-4687-9d9d-71a6e572633d",
   "metadata": {
    "execution": {
     "iopub.execute_input": "2023-10-26T10:21:16.490482Z",
     "iopub.status.busy": "2023-10-26T10:21:16.490131Z",
     "iopub.status.idle": "2023-10-26T10:21:16.514339Z",
     "shell.execute_reply": "2023-10-26T10:21:16.513546Z",
     "shell.execute_reply.started": "2023-10-26T10:21:16.490457Z"
    },
    "tags": []
   },
   "outputs": [],
   "source": [
    "X_train, y_train = dcl.transform2tensor(X_train, y_train)\n",
    "X_test, y_test = dcl.transform2tensor(X_test, y_test)"
   ]
  },
  {
   "cell_type": "code",
   "execution_count": 8,
   "id": "cc4fa984-84d7-4694-8d0a-84aa06bf1242",
   "metadata": {
    "execution": {
     "iopub.execute_input": "2023-10-26T10:21:18.656392Z",
     "iopub.status.busy": "2023-10-26T10:21:18.656080Z",
     "iopub.status.idle": "2023-10-26T10:21:18.663426Z",
     "shell.execute_reply": "2023-10-26T10:21:18.662753Z",
     "shell.execute_reply.started": "2023-10-26T10:21:18.656368Z"
    },
    "tags": []
   },
   "outputs": [],
   "source": [
    "class model_tabular(nn.Module):\n",
    "    def __init__(self):\n",
    "        super(model_tabular, self).__init__()\n",
    "        \n",
    "        self.tabular_savic_like = nn.Sequential(\n",
    "                     nn.Linear(62, 62),\n",
    "                     nn.ReLU(),\n",
    "                     nn.Linear(62, 30))\n",
    "        \n",
    "    def forward(self, x):\n",
    "        return self.tabular_savic_like(x)\n",
    "    \n",
    "class model_images(nn.Module):\n",
    "    \n",
    "    def __init__(self):\n",
    "        super(model_images, self).__init__()\n",
    "        \n",
    "        self.dense_part = nn.Sequential(\n",
    "                          nn.Linear(3*8*8, 30),\n",
    "                          nn.ReLU(),\n",
    "                          nn.Linear(30, 30))\n",
    "        \n",
    "    def forward(self, x):\n",
    "        x = F.max_pool2d(x, kernel_size=2, stride=2)\n",
    "        x = torch.flatten(x, 1)\n",
    "        x = self.dense_part(x)\n",
    "        return x\n",
    "    \n",
    "    \n",
    "    \n",
    "\n",
    "    \n",
    "class combined_model(nn.Module):\n",
    "    \n",
    "    def __init__(self):\n",
    "        super(combined_model,self).__init__()\n",
    "        \n",
    "        self.model_tabular = model_tabular()\n",
    "        self.model_images = model_images()\n",
    "        self.dense = nn.Linear(60, 3)\n",
    "        \n",
    "    def forward(self, images, tabular):\n",
    "        \n",
    "        images =  self.model_images(images)\n",
    "        tabular = self.model_tabular(tabular)\n",
    "        out = torch.concat([images, tabular], dim = 1)\n",
    "        out = self.dense(out)\n",
    "        return out          "
   ]
  },
  {
   "cell_type": "code",
   "execution_count": 9,
   "id": "72d6e99f-01e8-41f9-972d-6b7b5dbca6b7",
   "metadata": {
    "execution": {
     "iopub.execute_input": "2023-10-26T10:21:20.323729Z",
     "iopub.status.busy": "2023-10-26T10:21:20.322982Z",
     "iopub.status.idle": "2023-10-26T10:21:20.340266Z",
     "shell.execute_reply": "2023-10-26T10:21:20.339670Z",
     "shell.execute_reply.started": "2023-10-26T10:21:20.323693Z"
    },
    "tags": []
   },
   "outputs": [
    {
     "name": "stdout",
     "output_type": "stream",
     "text": [
      "=================================================================\n",
      "Layer (type:depth-idx)                   Param #\n",
      "=================================================================\n",
      "├─model_tabular: 1-1                     --\n",
      "|    └─Sequential: 2-1                   --\n",
      "|    |    └─Linear: 3-1                  3,906\n",
      "|    |    └─ReLU: 3-2                    --\n",
      "|    |    └─Linear: 3-3                  1,890\n",
      "├─model_images: 1-2                      --\n",
      "|    └─Sequential: 2-2                   --\n",
      "|    |    └─Linear: 3-4                  5,790\n",
      "|    |    └─ReLU: 3-5                    --\n",
      "|    |    └─Linear: 3-6                  930\n",
      "├─Linear: 1-3                            183\n",
      "=================================================================\n",
      "Total params: 12,699\n",
      "Trainable params: 12,699\n",
      "Non-trainable params: 0\n",
      "=================================================================\n"
     ]
    },
    {
     "data": {
      "text/plain": [
       "=================================================================\n",
       "Layer (type:depth-idx)                   Param #\n",
       "=================================================================\n",
       "├─model_tabular: 1-1                     --\n",
       "|    └─Sequential: 2-1                   --\n",
       "|    |    └─Linear: 3-1                  3,906\n",
       "|    |    └─ReLU: 3-2                    --\n",
       "|    |    └─Linear: 3-3                  1,890\n",
       "├─model_images: 1-2                      --\n",
       "|    └─Sequential: 2-2                   --\n",
       "|    |    └─Linear: 3-4                  5,790\n",
       "|    |    └─ReLU: 3-5                    --\n",
       "|    |    └─Linear: 3-6                  930\n",
       "├─Linear: 1-3                            183\n",
       "=================================================================\n",
       "Total params: 12,699\n",
       "Trainable params: 12,699\n",
       "Non-trainable params: 0\n",
       "================================================================="
      ]
     },
     "execution_count": 9,
     "metadata": {},
     "output_type": "execute_result"
    }
   ],
   "source": [
    "summary(combined_model(), input_size =[(1,3,16,16), (1,62)])"
   ]
  },
  {
   "cell_type": "code",
   "execution_count": 10,
   "id": "6bbb371f-4c5e-4306-a0b1-a6b796355b99",
   "metadata": {
    "execution": {
     "iopub.execute_input": "2023-10-26T10:21:24.941705Z",
     "iopub.status.busy": "2023-10-26T10:21:24.941061Z",
     "iopub.status.idle": "2023-10-26T10:21:24.945358Z",
     "shell.execute_reply": "2023-10-26T10:21:24.944851Z",
     "shell.execute_reply.started": "2023-10-26T10:21:24.941681Z"
    },
    "tags": []
   },
   "outputs": [],
   "source": [
    "train_dataset = TensorDataset(images_train, X_train, y_train)\n",
    "test_dataset = TensorDataset(images_test, X_test, y_test)\n",
    "\n",
    "train_dataloader = DataLoader(train_dataset, batch_size = 32, shuffle = True)\n",
    "test_dataloader = DataLoader(test_dataset, batch_size = 32, shuffle = True)"
   ]
  },
  {
   "cell_type": "code",
   "execution_count": 11,
   "id": "be23f67a-70f4-4f09-9ee8-54bfbe85007b",
   "metadata": {
    "execution": {
     "iopub.execute_input": "2023-10-26T10:21:26.273469Z",
     "iopub.status.busy": "2023-10-26T10:21:26.272776Z",
     "iopub.status.idle": "2023-10-26T10:21:26.278933Z",
     "shell.execute_reply": "2023-10-26T10:21:26.278270Z",
     "shell.execute_reply.started": "2023-10-26T10:21:26.273443Z"
    },
    "tags": []
   },
   "outputs": [],
   "source": [
    "def train_routine(dataloader, model,  loss_fn, optimizer):\n",
    "    losses = []\n",
    "    num_batches = len(dataloader)\n",
    "    for batch, (images, tabular, labels) in enumerate(dataloader): #X[0] = tensor with features, X[1] = labels\n",
    "        output = model(images, tabular)\n",
    "        loss = loss_fn(output, labels)\n",
    "\n",
    "        # Backpropagation\n",
    "        optimizer.zero_grad()    # Clear the gradient\n",
    "        loss.backward()          # Compute the gradient (??)\n",
    "        optimizer.step()         # update model weights\n",
    "\n",
    "        \n",
    "        if batch == round(num_batches/2):\n",
    "            losses.append(loss.item())\n",
    "\n",
    "    return losses\n",
    "\n",
    "def test_routine(dataloader, model, loss_fn, verbose = True):\n",
    "    num_batches = len(dataloader)\n",
    "    test_loss = 0\n",
    "    model.eval() \n",
    "    with torch.no_grad():\n",
    "        for images, tabular, labels in dataloader:\n",
    "            output = model(images, tabular)\n",
    "            test_loss += loss_fn(output, labels).item()\n",
    "\n",
    "    test_loss /= num_batches\n",
    "    model.train()\n",
    "    if verbose:\n",
    "        print(f\" Avg test loss      : {test_loss:>8f}\")\n",
    "\n",
    "    return test_loss\n",
    "\n",
    "    "
   ]
  },
  {
   "cell_type": "code",
   "execution_count": 12,
   "id": "5b0ca76c-4a6e-4325-bb5e-f599d747e609",
   "metadata": {
    "execution": {
     "iopub.execute_input": "2023-10-26T10:21:27.769999Z",
     "iopub.status.busy": "2023-10-26T10:21:27.769264Z",
     "iopub.status.idle": "2023-10-26T10:21:27.774654Z",
     "shell.execute_reply": "2023-10-26T10:21:27.773952Z",
     "shell.execute_reply.started": "2023-10-26T10:21:27.769969Z"
    },
    "tags": []
   },
   "outputs": [],
   "source": [
    "modello_finale = combined_model()\n",
    "EPOCHS = 250\n",
    "SEED = 12\n",
    "loss_fn = torch.nn.CrossEntropyLoss()  #torch.nn.CrossEntropyLoss\n",
    "optimizer = torch.optim.SGD(modello_finale.parameters(), lr=0.0005)"
   ]
  },
  {
   "cell_type": "code",
   "execution_count": 13,
   "id": "7a04d0e4-b1a4-4c54-87af-e08a633cba7f",
   "metadata": {
    "execution": {
     "iopub.execute_input": "2023-10-26T10:21:29.923318Z",
     "iopub.status.busy": "2023-10-26T10:21:29.922379Z",
     "iopub.status.idle": "2023-10-26T10:41:56.284327Z",
     "shell.execute_reply": "2023-10-26T10:41:56.283591Z",
     "shell.execute_reply.started": "2023-10-26T10:21:29.923286Z"
    },
    "tags": []
   },
   "outputs": [
    {
     "name": "stdout",
     "output_type": "stream",
     "text": [
      " Avg test loss      : 0.735349\n",
      "Epoch 0\n",
      " Avg test loss      : 0.305530\n",
      "Epoch 1\n",
      " Avg test loss      : 0.185958\n",
      "Epoch 2\n",
      " Avg test loss      : 0.148750\n",
      "Epoch 3\n",
      " Avg test loss      : 0.131710\n",
      "Epoch 4\n",
      " Avg test loss      : 0.121980\n",
      "Epoch 5\n",
      " Avg test loss      : 0.115589\n",
      "Epoch 6\n",
      " Avg test loss      : 0.111077\n",
      "Epoch 7\n",
      " Avg test loss      : 0.107707\n",
      "Epoch 8\n",
      " Avg test loss      : 0.105067\n",
      "Epoch 9\n",
      " Avg test loss      : 0.102915\n",
      "Epoch 10\n",
      " Avg test loss      : 0.101118\n",
      "Epoch 11\n",
      " Avg test loss      : 0.099576\n",
      "Epoch 12\n",
      " Avg test loss      : 0.098248\n",
      "Epoch 13\n",
      " Avg test loss      : 0.097051\n",
      "Epoch 14\n",
      " Avg test loss      : 0.095986\n",
      "Epoch 15\n",
      " Avg test loss      : 0.095021\n",
      "Epoch 16\n",
      " Avg test loss      : 0.094149\n",
      "Epoch 17\n",
      " Avg test loss      : 0.093349\n",
      "Epoch 18\n",
      " Avg test loss      : 0.092617\n",
      "Epoch 19\n",
      " Avg test loss      : 0.091936\n",
      "Epoch 20\n",
      " Avg test loss      : 0.091315\n",
      "Epoch 21\n",
      " Avg test loss      : 0.090728\n",
      "Epoch 22\n",
      " Avg test loss      : 0.090196\n",
      "Epoch 23\n",
      " Avg test loss      : 0.089668\n",
      "Epoch 24\n",
      " Avg test loss      : 0.089182\n",
      "Epoch 25\n",
      " Avg test loss      : 0.088723\n",
      "Epoch 26\n",
      " Avg test loss      : 0.088286\n",
      "Epoch 27\n",
      " Avg test loss      : 0.087880\n",
      "Epoch 28\n",
      " Avg test loss      : 0.087489\n",
      "Epoch 29\n",
      " Avg test loss      : 0.087117\n",
      "Epoch 30\n",
      " Avg test loss      : 0.086757\n",
      "Epoch 31\n",
      " Avg test loss      : 0.086420\n",
      "Epoch 32\n",
      " Avg test loss      : 0.086093\n",
      "Epoch 33\n",
      " Avg test loss      : 0.085776\n",
      "Epoch 34\n",
      " Avg test loss      : 0.085478\n",
      "Epoch 35\n",
      " Avg test loss      : 0.085188\n",
      "Epoch 36\n",
      " Avg test loss      : 0.084904\n",
      "Epoch 37\n",
      " Avg test loss      : 0.084633\n",
      "Epoch 38\n",
      " Avg test loss      : 0.084387\n",
      "Epoch 39\n",
      " Avg test loss      : 0.084127\n",
      "Epoch 40\n",
      " Avg test loss      : 0.083903\n",
      "Epoch 41\n",
      " Avg test loss      : 0.083651\n",
      "Epoch 42\n",
      " Avg test loss      : 0.083420\n",
      "Epoch 43\n",
      " Avg test loss      : 0.083195\n",
      "Epoch 44\n",
      " Avg test loss      : 0.082977\n",
      "Epoch 45\n",
      " Avg test loss      : 0.082772\n",
      "Epoch 46\n",
      " Avg test loss      : 0.082573\n",
      "Epoch 47\n",
      " Avg test loss      : 0.082361\n",
      "Epoch 48\n",
      " Avg test loss      : 0.082159\n",
      "Epoch 49\n",
      " Avg test loss      : 0.081969\n",
      "Epoch 50\n",
      " Avg test loss      : 0.081775\n",
      "Epoch 51\n",
      " Avg test loss      : 0.081596\n",
      "Epoch 52\n",
      " Avg test loss      : 0.081415\n",
      "Epoch 53\n",
      " Avg test loss      : 0.081239\n",
      "Epoch 54\n",
      " Avg test loss      : 0.081075\n",
      "Epoch 55\n",
      " Avg test loss      : 0.080903\n",
      "Epoch 56\n",
      " Avg test loss      : 0.080739\n",
      "Epoch 57\n",
      " Avg test loss      : 0.080573\n",
      "Epoch 58\n",
      " Avg test loss      : 0.080408\n",
      "Epoch 59\n",
      " Avg test loss      : 0.080247\n",
      "Epoch 60\n",
      " Avg test loss      : 0.080086\n",
      "Epoch 61\n",
      " Avg test loss      : 0.079933\n",
      "Epoch 62\n",
      " Avg test loss      : 0.079789\n",
      "Epoch 63\n",
      " Avg test loss      : 0.079630\n",
      "Epoch 64\n",
      " Avg test loss      : 0.079496\n",
      "Epoch 65\n",
      " Avg test loss      : 0.079341\n",
      "Epoch 66\n",
      " Avg test loss      : 0.079201\n",
      "Epoch 67\n",
      " Avg test loss      : 0.079065\n",
      "Epoch 68\n",
      " Avg test loss      : 0.078931\n",
      "Epoch 69\n",
      " Avg test loss      : 0.078788\n",
      "Epoch 70\n",
      " Avg test loss      : 0.078652\n",
      "Epoch 71\n",
      " Avg test loss      : 0.078513\n",
      "Epoch 72\n",
      " Avg test loss      : 0.078381\n",
      "Epoch 73\n",
      " Avg test loss      : 0.078259\n",
      "Epoch 74\n",
      " Avg test loss      : 0.078123\n",
      "Epoch 75\n",
      " Avg test loss      : 0.077999\n",
      "Epoch 76\n",
      " Avg test loss      : 0.077872\n",
      "Epoch 77\n",
      " Avg test loss      : 0.077746\n",
      "Epoch 78\n",
      " Avg test loss      : 0.077619\n",
      "Epoch 79\n",
      " Avg test loss      : 0.077517\n",
      "Epoch 80\n",
      " Avg test loss      : 0.077388\n",
      "Epoch 81\n",
      " Avg test loss      : 0.077279\n",
      "Epoch 82\n",
      " Avg test loss      : 0.077146\n",
      "Epoch 83\n",
      " Avg test loss      : 0.077033\n",
      "Epoch 84\n",
      " Avg test loss      : 0.076926\n",
      "Epoch 85\n",
      " Avg test loss      : 0.076813\n",
      "Epoch 86\n",
      " Avg test loss      : 0.076703\n",
      "Epoch 87\n",
      " Avg test loss      : 0.076593\n",
      "Epoch 88\n",
      " Avg test loss      : 0.076487\n",
      "Epoch 89\n",
      " Avg test loss      : 0.076378\n",
      "Epoch 90\n",
      " Avg test loss      : 0.076270\n",
      "Epoch 91\n",
      " Avg test loss      : 0.076160\n",
      "Epoch 92\n",
      " Avg test loss      : 0.076055\n",
      "Epoch 93\n",
      " Avg test loss      : 0.075956\n",
      "Epoch 94\n",
      " Avg test loss      : 0.075849\n",
      "Epoch 95\n",
      " Avg test loss      : 0.075747\n",
      "Epoch 96\n",
      " Avg test loss      : 0.075641\n",
      "Epoch 97\n",
      " Avg test loss      : 0.075537\n",
      "Epoch 98\n",
      " Avg test loss      : 0.075449\n",
      "Epoch 99\n",
      " Avg test loss      : 0.075340\n",
      "Epoch 100\n",
      " Avg test loss      : 0.075244\n",
      "Epoch 101\n",
      " Avg test loss      : 0.075147\n",
      "Epoch 102\n",
      " Avg test loss      : 0.075049\n",
      "Epoch 103\n",
      " Avg test loss      : 0.074952\n",
      "Epoch 104\n",
      " Avg test loss      : 0.074865\n",
      "Epoch 105\n",
      " Avg test loss      : 0.074757\n",
      "Epoch 106\n",
      " Avg test loss      : 0.074659\n",
      "Epoch 107\n",
      " Avg test loss      : 0.074578\n",
      "Epoch 108\n",
      " Avg test loss      : 0.074484\n",
      "Epoch 109\n",
      " Avg test loss      : 0.074376\n",
      "Epoch 110\n",
      " Avg test loss      : 0.074284\n",
      "Epoch 111\n",
      " Avg test loss      : 0.074188\n",
      "Epoch 112\n",
      " Avg test loss      : 0.074100\n",
      "Epoch 113\n",
      " Avg test loss      : 0.074008\n",
      "Epoch 114\n",
      " Avg test loss      : 0.073914\n",
      "Epoch 115\n",
      " Avg test loss      : 0.073834\n",
      "Epoch 116\n",
      " Avg test loss      : 0.073738\n",
      "Epoch 117\n",
      " Avg test loss      : 0.073653\n",
      "Epoch 118\n",
      " Avg test loss      : 0.073567\n",
      "Epoch 119\n",
      " Avg test loss      : 0.073478\n",
      "Epoch 120\n",
      " Avg test loss      : 0.073396\n",
      "Epoch 121\n",
      " Avg test loss      : 0.073313\n",
      "Epoch 122\n",
      " Avg test loss      : 0.073230\n",
      "Epoch 123\n",
      " Avg test loss      : 0.073139\n",
      "Epoch 124\n",
      " Avg test loss      : 0.073060\n",
      "Epoch 125\n",
      " Avg test loss      : 0.072981\n",
      "Epoch 126\n",
      " Avg test loss      : 0.072888\n",
      "Epoch 127\n",
      " Avg test loss      : 0.072825\n",
      "Epoch 128\n",
      " Avg test loss      : 0.072717\n",
      "Epoch 129\n",
      " Avg test loss      : 0.072644\n",
      "Epoch 130\n",
      " Avg test loss      : 0.072558\n",
      "Epoch 131\n",
      " Avg test loss      : 0.072473\n",
      "Epoch 132\n",
      " Avg test loss      : 0.072395\n",
      "Epoch 133\n",
      " Avg test loss      : 0.072311\n",
      "Epoch 134\n",
      " Avg test loss      : 0.072234\n",
      "Epoch 135\n",
      " Avg test loss      : 0.072158\n",
      "Epoch 136\n",
      " Avg test loss      : 0.072089\n",
      "Epoch 137\n",
      " Avg test loss      : 0.072007\n",
      "Epoch 138\n",
      " Avg test loss      : 0.071926\n",
      "Epoch 139\n",
      " Avg test loss      : 0.071851\n",
      "Epoch 140\n",
      " Avg test loss      : 0.071777\n",
      "Epoch 141\n",
      " Avg test loss      : 0.071694\n",
      "Epoch 142\n",
      " Avg test loss      : 0.071627\n",
      "Epoch 143\n",
      " Avg test loss      : 0.071549\n",
      "Epoch 144\n",
      " Avg test loss      : 0.071476\n",
      "Epoch 145\n",
      " Avg test loss      : 0.071413\n",
      "Epoch 146\n",
      " Avg test loss      : 0.071334\n",
      "Epoch 147\n",
      " Avg test loss      : 0.071264\n",
      "Epoch 148\n",
      " Avg test loss      : 0.071186\n",
      "Epoch 149\n",
      " Avg test loss      : 0.071116\n",
      "Epoch 150\n",
      " Avg test loss      : 0.071044\n",
      "Epoch 151\n",
      " Avg test loss      : 0.070977\n",
      "Epoch 152\n",
      " Avg test loss      : 0.070902\n",
      "Epoch 153\n",
      " Avg test loss      : 0.070834\n",
      "Epoch 154\n",
      " Avg test loss      : 0.070775\n",
      "Epoch 155\n",
      " Avg test loss      : 0.070710\n",
      "Epoch 156\n",
      " Avg test loss      : 0.070637\n",
      "Epoch 157\n",
      " Avg test loss      : 0.070564\n",
      "Epoch 158\n",
      " Avg test loss      : 0.070505\n",
      "Epoch 159\n",
      " Avg test loss      : 0.070431\n",
      "Epoch 160\n",
      " Avg test loss      : 0.070381\n",
      "Epoch 161\n",
      " Avg test loss      : 0.070303\n",
      "Epoch 162\n",
      " Avg test loss      : 0.070246\n",
      "Epoch 163\n",
      " Avg test loss      : 0.070172\n",
      "Epoch 164\n",
      " Avg test loss      : 0.070110\n",
      "Epoch 165\n",
      " Avg test loss      : 0.070046\n",
      "Epoch 166\n",
      " Avg test loss      : 0.069990\n",
      "Epoch 167\n",
      " Avg test loss      : 0.069923\n",
      "Epoch 168\n",
      " Avg test loss      : 0.069862\n",
      "Epoch 169\n",
      " Avg test loss      : 0.069800\n",
      "Epoch 170\n",
      " Avg test loss      : 0.069740\n",
      "Epoch 171\n",
      " Avg test loss      : 0.069678\n",
      "Epoch 172\n",
      " Avg test loss      : 0.069627\n",
      "Epoch 173\n",
      " Avg test loss      : 0.069556\n",
      "Epoch 174\n",
      " Avg test loss      : 0.069509\n",
      "Epoch 175\n",
      " Avg test loss      : 0.069447\n",
      "Epoch 176\n",
      " Avg test loss      : 0.069388\n",
      "Epoch 177\n",
      " Avg test loss      : 0.069333\n",
      "Epoch 178\n",
      " Avg test loss      : 0.069272\n",
      "Epoch 179\n",
      " Avg test loss      : 0.069221\n",
      "Epoch 180\n",
      " Avg test loss      : 0.069165\n",
      "Epoch 181\n",
      " Avg test loss      : 0.069095\n",
      "Epoch 182\n",
      " Avg test loss      : 0.069038\n",
      "Epoch 183\n",
      " Avg test loss      : 0.068995\n",
      "Epoch 184\n",
      " Avg test loss      : 0.068935\n",
      "Epoch 185\n",
      " Avg test loss      : 0.068878\n",
      "Epoch 186\n",
      " Avg test loss      : 0.068839\n",
      "Epoch 187\n",
      " Avg test loss      : 0.068774\n",
      "Epoch 188\n",
      " Avg test loss      : 0.068719\n",
      "Epoch 189\n",
      " Avg test loss      : 0.068666\n",
      "Epoch 190\n",
      " Avg test loss      : 0.068615\n",
      "Epoch 191\n",
      " Avg test loss      : 0.068566\n",
      "Epoch 192\n",
      " Avg test loss      : 0.068519\n",
      "Epoch 193\n",
      " Avg test loss      : 0.068476\n",
      "Epoch 194\n",
      " Avg test loss      : 0.068419\n",
      "Epoch 195\n",
      " Avg test loss      : 0.068380\n",
      "Epoch 196\n",
      " Avg test loss      : 0.068333\n",
      "Epoch 197\n",
      " Avg test loss      : 0.068278\n",
      "Epoch 198\n",
      " Avg test loss      : 0.068226\n",
      "Epoch 199\n",
      " Avg test loss      : 0.068176\n",
      "Epoch 200\n",
      " Avg test loss      : 0.068124\n",
      "Epoch 201\n",
      " Avg test loss      : 0.068079\n",
      "Epoch 202\n",
      " Avg test loss      : 0.068037\n",
      "Epoch 203\n",
      " Avg test loss      : 0.067985\n",
      "Epoch 204\n",
      " Avg test loss      : 0.067944\n",
      "Epoch 205\n",
      " Avg test loss      : 0.067901\n",
      "Epoch 206\n",
      " Avg test loss      : 0.067856\n",
      "Epoch 207\n",
      " Avg test loss      : 0.067804\n",
      "Epoch 208\n",
      " Avg test loss      : 0.067762\n",
      "Epoch 209\n",
      " Avg test loss      : 0.067716\n",
      "Epoch 210\n",
      " Avg test loss      : 0.067672\n",
      "Epoch 211\n",
      " Avg test loss      : 0.067634\n",
      "Epoch 212\n",
      " Avg test loss      : 0.067600\n",
      "Epoch 213\n",
      " Avg test loss      : 0.067543\n",
      "Epoch 214\n",
      " Avg test loss      : 0.067517\n",
      "Epoch 215\n",
      " Avg test loss      : 0.067462\n",
      "Epoch 216\n",
      " Avg test loss      : 0.067419\n",
      "Epoch 217\n",
      " Avg test loss      : 0.067373\n",
      "Epoch 218\n",
      " Avg test loss      : 0.067337\n",
      "Epoch 219\n",
      " Avg test loss      : 0.067293\n",
      "Epoch 220\n",
      " Avg test loss      : 0.067254\n",
      "Epoch 221\n",
      " Avg test loss      : 0.067210\n",
      "Epoch 222\n",
      " Avg test loss      : 0.067168\n",
      "Epoch 223\n",
      " Avg test loss      : 0.067130\n",
      "Epoch 224\n",
      " Avg test loss      : 0.067090\n",
      "Epoch 225\n",
      " Avg test loss      : 0.067044\n",
      "Epoch 226\n",
      " Avg test loss      : 0.067008\n",
      "Epoch 227\n",
      " Avg test loss      : 0.066967\n",
      "Epoch 228\n",
      " Avg test loss      : 0.066932\n",
      "Epoch 229\n",
      " Avg test loss      : 0.066894\n",
      "Epoch 230\n",
      " Avg test loss      : 0.066860\n",
      "Epoch 231\n",
      " Avg test loss      : 0.066822\n",
      "Epoch 232\n",
      " Avg test loss      : 0.066781\n",
      "Epoch 233\n",
      " Avg test loss      : 0.066740\n",
      "Epoch 234\n",
      " Avg test loss      : 0.066694\n",
      "Epoch 235\n",
      " Avg test loss      : 0.066666\n",
      "Epoch 236\n",
      " Avg test loss      : 0.066627\n",
      "Epoch 237\n",
      " Avg test loss      : 0.066595\n",
      "Epoch 238\n",
      " Avg test loss      : 0.066562\n",
      "Epoch 239\n",
      " Avg test loss      : 0.066525\n",
      "Epoch 240\n",
      " Avg test loss      : 0.066490\n",
      "Epoch 241\n",
      " Avg test loss      : 0.066454\n",
      "Epoch 242\n",
      " Avg test loss      : 0.066417\n",
      "Epoch 243\n",
      " Avg test loss      : 0.066387\n",
      "Epoch 244\n",
      " Avg test loss      : 0.066347\n",
      "Epoch 245\n",
      " Avg test loss      : 0.066316\n",
      "Epoch 246\n",
      " Avg test loss      : 0.066286\n",
      "Epoch 247\n",
      " Avg test loss      : 0.066243\n",
      "Epoch 248\n",
      " Avg test loss      : 0.066210\n",
      "Epoch 249\n",
      "Done!\n"
     ]
    }
   ],
   "source": [
    "train_loss = []\n",
    "test_loss  = []\n",
    "for t in range(EPOCHS):\n",
    "    train_loss.append(train_routine(train_dataloader, modello_finale, loss_fn, optimizer))\n",
    "    test_loss.append(test_routine(test_dataloader, modello_finale, loss_fn, verbose = True))\n",
    "    print(f\"Epoch {t}\")\n",
    "print(\"Done!\")"
   ]
  },
  {
   "cell_type": "code",
   "execution_count": 14,
   "id": "950f14db-b025-4d2c-bf60-26bc4c22ca11",
   "metadata": {
    "execution": {
     "iopub.execute_input": "2023-10-26T10:42:41.604102Z",
     "iopub.status.busy": "2023-10-26T10:42:41.603504Z",
     "iopub.status.idle": "2023-10-26T10:42:41.811521Z",
     "shell.execute_reply": "2023-10-26T10:42:41.810938Z",
     "shell.execute_reply.started": "2023-10-26T10:42:41.604074Z"
    },
    "tags": []
   },
   "outputs": [
    {
     "data": {
      "text/plain": [
       "<matplotlib.legend.Legend at 0x7f08c6f2f050>"
      ]
     },
     "execution_count": 14,
     "metadata": {},
     "output_type": "execute_result"
    },
    {
     "data": {
      "image/png": "[encoded data removed]",
      "text/plain": [
       "<Figure size 640x480 with 1 Axes>"
      ]
     },
     "metadata": {},
     "output_type": "display_data"
    }
   ],
   "source": [
    "fig, ax = plt.subplots()\n",
    "ax.plot(np.arange(0, EPOCHS,1), train_loss, label = \"train\")\n",
    "ax.plot(np.arange(0, EPOCHS,1), test_loss, label = \"test\")\n",
    "ax.set_xlabel(\"Epoch\")\n",
    "ax.set_ylabel(\"Loss\")\n",
    "ax.legend()"
   ]
  },
  {
   "cell_type": "code",
   "execution_count": 17,
   "id": "789170f2-59a8-4f03-8a36-6551c77d0d5d",
   "metadata": {
    "execution": {
     "iopub.execute_input": "2023-10-26T10:43:32.765503Z",
     "iopub.status.busy": "2023-10-26T10:43:32.765203Z",
     "iopub.status.idle": "2023-10-26T10:43:33.087263Z",
     "shell.execute_reply": "2023-10-26T10:43:33.086707Z",
     "shell.execute_reply.started": "2023-10-26T10:43:32.765483Z"
    },
    "tags": []
   },
   "outputs": [
    {
     "name": "stdout",
     "output_type": "stream",
     "text": [
      "[0.99073928 0.98331812 0.95989467]\n",
      "0.980850898343315\n"
     ]
    },
    {
     "data": {
      "text/plain": [
       "<sklearn.metrics._plot.confusion_matrix.ConfusionMatrixDisplay at 0x7f08c6e38110>"
      ]
     },
     "execution_count": 17,
     "metadata": {},
     "output_type": "execute_result"
    },
    {
     "data": {
      "image/png": "[encoded data removed]",
      "text/plain": [
       "<Figure size 640x480 with 2 Axes>"
      ]
     },
     "metadata": {},
     "output_type": "display_data"
    }
   ],
   "source": [
    "with torch.no_grad():\n",
    "    predictions = modello_finale(images_test, X_test)\n",
    "    predictions = predictions.detach().numpy()\n",
    "predictions = np.argmax(predictions, axis =1)\n",
    "cf = confusion_matrix(y_test, predictions, normalize = \"true\")\n",
    "\n",
    "str_labels = ['Star', 'Gal', 'Qso/Agn']\n",
    "accuracy = cf.diagonal()/cf.sum(axis=1)\n",
    "print(accuracy)\n",
    "print(accuracy_score(y_test, predictions))\n",
    "ConfusionMatrixDisplay(cf, display_labels=str_labels).plot()\n"
   ]
  },
  {
   "cell_type": "code",
   "execution_count": 18,
   "id": "91f7a279-b49d-44e6-a58b-b5d3edd07a51",
   "metadata": {
    "execution": {
     "iopub.execute_input": "2023-10-26T10:44:19.017325Z",
     "iopub.status.busy": "2023-10-26T10:44:19.016670Z",
     "iopub.status.idle": "2023-10-26T10:44:30.099670Z",
     "shell.execute_reply": "2023-10-26T10:44:30.098675Z",
     "shell.execute_reply.started": "2023-10-26T10:44:19.017297Z"
    },
    "tags": []
   },
   "outputs": [
    {
     "name": "stderr",
     "output_type": "stream",
     "text": [
      "2023-10-26 10:44:20.341888: I tensorflow/core/util/port.cc:111] oneDNN custom operations are on. You may see slightly different numerical results due to floating-point round-off errors from different computation orders. To turn them off, set the environment variable `TF_ENABLE_ONEDNN_OPTS=0`.\n",
      "2023-10-26 10:44:20.626037: I tensorflow/tsl/cuda/cudart_stub.cc:28] Could not find cuda drivers on your machine, GPU will not be used.\n",
      "2023-10-26 10:44:21.570047: E tensorflow/compiler/xla/stream_executor/cuda/cuda_dnn.cc:9342] Unable to register cuDNN factory: Attempting to register factory for plugin cuDNN when one has already been registered\n",
      "2023-10-26 10:44:21.570311: E tensorflow/compiler/xla/stream_executor/cuda/cuda_fft.cc:609] Unable to register cuFFT factory: Attempting to register factory for plugin cuFFT when one has already been registered\n",
      "2023-10-26 10:44:21.575060: E tensorflow/compiler/xla/stream_executor/cuda/cuda_blas.cc:1518] Unable to register cuBLAS factory: Attempting to register factory for plugin cuBLAS when one has already been registered\n",
      "2023-10-26 10:44:22.062747: I tensorflow/tsl/cuda/cudart_stub.cc:28] Could not find cuda drivers on your machine, GPU will not be used.\n",
      "2023-10-26 10:44:22.067141: I tensorflow/core/platform/cpu_feature_guard.cc:182] This TensorFlow binary is optimized to use available CPU instructions in performance-critical operations.\n",
      "To enable the following instructions: AVX2 AVX512F AVX512_VNNI FMA, in other operations, rebuild TensorFlow with the appropriate compiler flags.\n",
      "2023-10-26 10:44:25.756504: W tensorflow/compiler/tf2tensorrt/utils/py_utils.cc:38] TF-TRT Warning: Could not find TensorRT\n"
     ]
    }
   ],
   "source": [
    "import tensorflow as tf\n",
    "from tensorflow import keras\n",
    "from tensorflow.keras import layers\n",
    "from tensorflow.keras.models import Model\n",
    "from tensorflow.keras.layers import Input, Dense, Layer, InputSpec, Conv2D, MaxPooling2D, Flatten\n",
    "from tensorflow.keras import backend as K\n",
    "from tensorflow.keras.optimizers import SGD"
   ]
  },
  {
   "cell_type": "code",
   "execution_count": 19,
   "id": "6675cd75-dc1b-4ef8-ab07-965ec2bfb96b",
   "metadata": {
    "execution": {
     "iopub.execute_input": "2023-10-26T10:44:30.459420Z",
     "iopub.status.busy": "2023-10-26T10:44:30.459203Z",
     "iopub.status.idle": "2023-10-26T10:46:05.368548Z",
     "shell.execute_reply": "2023-10-26T10:46:05.367688Z",
     "shell.execute_reply.started": "2023-10-26T10:44:30.459403Z"
    },
    "tags": []
   },
   "outputs": [
    {
     "name": "stdout",
     "output_type": "stream",
     "text": [
      "Model: \"model\"\n",
      "_________________________________________________________________\n",
      " Layer (type)                Output Shape              Param #   \n",
      "=================================================================\n",
      " input_1 (InputLayer)        [(None, 16, 16, 3)]       0         \n",
      "                                                                 \n",
      " max_pooling2d (MaxPooling2  (None, 8, 8, 3)           0         \n",
      " D)                                                              \n",
      "                                                                 \n",
      " flatten (Flatten)           (None, 192)               0         \n",
      "                                                                 \n",
      " dense (Dense)               (None, 30)                5790      \n",
      "                                                                 \n",
      " dense_1 (Dense)             (None, 30)                930       \n",
      "                                                                 \n",
      " dense_2 (Dense)             (None, 3)                 93        \n",
      "                                                                 \n",
      "=================================================================\n",
      "Total params: 6813 (26.61 KB)\n",
      "Trainable params: 6813 (26.61 KB)\n",
      "Non-trainable params: 0 (0.00 Byte)\n",
      "_________________________________________________________________\n"
     ]
    },
    {
     "data": {
      "text/plain": [
       "None"
      ]
     },
     "metadata": {},
     "output_type": "display_data"
    },
    {
     "name": "stdout",
     "output_type": "stream",
     "text": [
      "Epoch 1/25\n"
     ]
    },
    {
     "name": "stderr",
     "output_type": "stream",
     "text": [
      "/home/ivanosaccheo/.local/lib/python3.11/site-packages/keras/src/backend.py:5729: UserWarning: \"`sparse_categorical_crossentropy` received `from_logits=True`, but the `output` argument was produced by a Softmax activation and thus does not represent logits. Was this intended?\n",
      "  output, from_logits = _get_logits(\n"
     ]
    },
    {
     "name": "stdout",
     "output_type": "stream",
     "text": [
      "2009/2009 [==============================] - 5s 2ms/step - loss: 0.3394 - accuracy: 0.8732\n",
      "Epoch 2/25\n",
      "2009/2009 [==============================] - 4s 2ms/step - loss: 0.2585 - accuracy: 0.9057\n",
      "Epoch 3/25\n",
      "2009/2009 [==============================] - 4s 2ms/step - loss: 0.2471 - accuracy: 0.9105\n",
      "Epoch 4/25\n",
      "2009/2009 [==============================] - 4s 2ms/step - loss: 0.2384 - accuracy: 0.9126\n",
      "Epoch 5/25\n",
      "2009/2009 [==============================] - 4s 2ms/step - loss: 0.2304 - accuracy: 0.9172\n",
      "Epoch 6/25\n",
      "2009/2009 [==============================] - 4s 2ms/step - loss: 0.2247 - accuracy: 0.9194\n",
      "Epoch 7/25\n",
      "2009/2009 [==============================] - 4s 2ms/step - loss: 0.2214 - accuracy: 0.9203\n",
      "Epoch 8/25\n",
      "2009/2009 [==============================] - 4s 2ms/step - loss: 0.2181 - accuracy: 0.9208\n",
      "Epoch 9/25\n",
      "2009/2009 [==============================] - 4s 2ms/step - loss: 0.2164 - accuracy: 0.9220\n",
      "Epoch 10/25\n",
      "2009/2009 [==============================] - 4s 2ms/step - loss: 0.2136 - accuracy: 0.9224\n",
      "Epoch 11/25\n",
      "2009/2009 [==============================] - 4s 2ms/step - loss: 0.2130 - accuracy: 0.9225\n",
      "Epoch 12/25\n",
      "2009/2009 [==============================] - 4s 2ms/step - loss: 0.2113 - accuracy: 0.9226\n",
      "Epoch 13/25\n",
      "2009/2009 [==============================] - 4s 2ms/step - loss: 0.2097 - accuracy: 0.9241\n",
      "Epoch 14/25\n",
      "2009/2009 [==============================] - 4s 2ms/step - loss: 0.2086 - accuracy: 0.9233\n",
      "Epoch 15/25\n",
      "2009/2009 [==============================] - 4s 2ms/step - loss: 0.2073 - accuracy: 0.9250\n",
      "Epoch 16/25\n",
      "2009/2009 [==============================] - 4s 2ms/step - loss: 0.2068 - accuracy: 0.9250\n",
      "Epoch 17/25\n",
      "2009/2009 [==============================] - 4s 2ms/step - loss: 0.2052 - accuracy: 0.9258\n",
      "Epoch 18/25\n",
      "2009/2009 [==============================] - 4s 2ms/step - loss: 0.2044 - accuracy: 0.9257\n",
      "Epoch 19/25\n",
      "2009/2009 [==============================] - 4s 2ms/step - loss: 0.2038 - accuracy: 0.9251\n",
      "Epoch 20/25\n",
      "2009/2009 [==============================] - 4s 2ms/step - loss: 0.2024 - accuracy: 0.9263\n",
      "Epoch 21/25\n",
      "2009/2009 [==============================] - 4s 2ms/step - loss: 0.2016 - accuracy: 0.9269\n",
      "Epoch 22/25\n",
      "2009/2009 [==============================] - 4s 2ms/step - loss: 0.2006 - accuracy: 0.9266\n",
      "Epoch 23/25\n",
      "2009/2009 [==============================] - 4s 2ms/step - loss: 0.1998 - accuracy: 0.9274\n",
      "Epoch 24/25\n",
      "2009/2009 [==============================] - 4s 2ms/step - loss: 0.1985 - accuracy: 0.9281\n",
      "Epoch 25/25\n",
      "2009/2009 [==============================] - 4s 2ms/step - loss: 0.1976 - accuracy: 0.9273\n"
     ]
    },
    {
     "data": {
      "text/plain": [
       "[0.2199493944644928, 0.921941339969635]"
      ]
     },
     "metadata": {},
     "output_type": "display_data"
    }
   ],
   "source": [
    "X_train_image = torch.permute(images_train, (0, 2,3, 1)).numpy()\n",
    "X_test_image = torch.permute(images_test, (0, 2,3, 1)).numpy()\n",
    "                              \n",
    "                        \n",
    "\n",
    "\n",
    "input_shape = X_train_image.shape[1:]\n",
    "\n",
    "lay1_input = Input(shape=input_shape)\n",
    "lay1 = MaxPooling2D((2, 2))(lay1_input)\n",
    "lay1 = Flatten()(lay1)\n",
    "lay1 = Dense(30, activation='relu')(lay1)\n",
    "lay1_enc = Dense(30, activation='relu')(lay1)\n",
    "lay1 = Dense(3, activation='sigmoid')(lay1_enc)\n",
    "model_dense = Model(lay1_input, lay1)\n",
    "\n",
    "display(model_dense.summary())\n",
    "\n",
    "model_dense.compile(optimizer='adam',\n",
    "              loss=tf.keras.losses.SparseCategoricalCrossentropy(from_logits=True),\n",
    "              metrics=['accuracy'])\n",
    "\n",
    "num_epochs = 25\n",
    "history = model_dense.fit(X_train_image, y_train.numpy(), epochs=num_epochs)\n",
    "scores = model_dense.evaluate(X_test_image, y_test.numpy(), verbose=0)\n",
    "display(scores)"
   ]
  },
  {
   "cell_type": "code",
   "execution_count": 20,
   "id": "8f56ff63-0467-4a58-aab9-80fbd661baf8",
   "metadata": {
    "execution": {
     "iopub.execute_input": "2023-10-26T10:46:05.370739Z",
     "iopub.status.busy": "2023-10-26T10:46:05.370461Z",
     "iopub.status.idle": "2023-10-26T10:46:52.535486Z",
     "shell.execute_reply": "2023-10-26T10:46:52.534858Z",
     "shell.execute_reply.started": "2023-10-26T10:46:05.370694Z"
    },
    "tags": []
   },
   "outputs": [
    {
     "name": "stdout",
     "output_type": "stream",
     "text": [
      "Model: \"model_1\"\n",
      "_________________________________________________________________\n",
      " Layer (type)                Output Shape              Param #   \n",
      "=================================================================\n",
      " input_2 (InputLayer)        [(None, 62)]              0         \n",
      "                                                                 \n",
      " dense_3 (Dense)             (None, 62)                3906      \n",
      "                                                                 \n",
      " dense_4 (Dense)             (None, 30)                1890      \n",
      "                                                                 \n",
      "=================================================================\n",
      "Total params: 5796 (22.64 KB)\n",
      "Trainable params: 5796 (22.64 KB)\n",
      "Non-trainable params: 0 (0.00 Byte)\n",
      "_________________________________________________________________\n"
     ]
    },
    {
     "data": {
      "text/plain": [
       "None"
      ]
     },
     "metadata": {},
     "output_type": "display_data"
    },
    {
     "name": "stdout",
     "output_type": "stream",
     "text": [
      "Epoch 1/15\n",
      "2009/2009 [==============================] - 3s 1ms/step - loss: 0.1525 - accuracy: 0.9652\n",
      "Epoch 2/15\n",
      "2009/2009 [==============================] - 3s 1ms/step - loss: 0.0671 - accuracy: 0.9804\n",
      "Epoch 3/15\n",
      "2009/2009 [==============================] - 3s 2ms/step - loss: 0.0620 - accuracy: 0.9815\n",
      "Epoch 4/15\n",
      "2009/2009 [==============================] - 3s 1ms/step - loss: 0.0588 - accuracy: 0.9821\n",
      "Epoch 5/15\n",
      "2009/2009 [==============================] - 3s 1ms/step - loss: 0.0563 - accuracy: 0.9830\n",
      "Epoch 6/15\n",
      "2009/2009 [==============================] - 3s 1ms/step - loss: 0.0547 - accuracy: 0.9835\n",
      "Epoch 7/15\n",
      "2009/2009 [==============================] - 3s 1ms/step - loss: 0.0534 - accuracy: 0.9835\n",
      "Epoch 8/15\n",
      "2009/2009 [==============================] - 3s 1ms/step - loss: 0.0516 - accuracy: 0.9846\n",
      "Epoch 9/15\n",
      "2009/2009 [==============================] - 3s 1ms/step - loss: 0.0508 - accuracy: 0.9842\n",
      "Epoch 10/15\n",
      "2009/2009 [==============================] - 3s 1ms/step - loss: 0.0494 - accuracy: 0.9848\n",
      "Epoch 11/15\n",
      "2009/2009 [==============================] - 3s 1ms/step - loss: 0.0487 - accuracy: 0.9850\n",
      "Epoch 12/15\n",
      "2009/2009 [==============================] - 3s 1ms/step - loss: 0.0480 - accuracy: 0.9851\n",
      "Epoch 13/15\n",
      "2009/2009 [==============================] - 3s 1ms/step - loss: 0.0470 - accuracy: 0.9857\n",
      "Epoch 14/15\n",
      "2009/2009 [==============================] - 3s 1ms/step - loss: 0.0458 - accuracy: 0.9858\n",
      "Epoch 15/15\n",
      "2009/2009 [==============================] - 3s 1ms/step - loss: 0.0453 - accuracy: 0.9860\n"
     ]
    },
    {
     "data": {
      "text/plain": [
       "[0.06277401745319366, 0.9822664856910706]"
      ]
     },
     "metadata": {},
     "output_type": "display_data"
    }
   ],
   "source": [
    "n_input_layer = X_train.shape[1]\n",
    "\n",
    "tab_inputs = Input(n_input_layer)\n",
    "tab_dense1 = Dense(n_input_layer, activation='relu')(tab_inputs)\n",
    "tab_dense1 = Dense(30, activation='relu')(tab_dense1)\n",
    "#tab_dense2 = Dense(3, activation='softmax')(tab_dense1)\n",
    "model_tabular = Model(tab_inputs, tab_dense1)\n",
    "\n",
    "display(model_tabular.summary())\n",
    "\n",
    "model_tabular.compile(optimizer='adam',\n",
    "                     loss=tf.keras.losses.SparseCategoricalCrossentropy(from_logits=True),\n",
    "                     metrics=['accuracy'])\n",
    "\n",
    "history = model_tabular.fit(X_train.numpy(), y_train.numpy(), epochs=15)\n",
    "scores = model_tabular.evaluate(X_test.numpy(), y_test.numpy(), verbose=0)\n",
    "display(scores)"
   ]
  },
  {
   "cell_type": "code",
   "execution_count": 21,
   "id": "b0ffb2f4-3656-42ab-92e4-a99916ca9440",
   "metadata": {
    "execution": {
     "iopub.execute_input": "2023-10-26T10:46:52.537237Z",
     "iopub.status.busy": "2023-10-26T10:46:52.536564Z",
     "iopub.status.idle": "2023-10-26T10:46:52.584613Z",
     "shell.execute_reply": "2023-10-26T10:46:52.583972Z",
     "shell.execute_reply.started": "2023-10-26T10:46:52.537209Z"
    },
    "tags": []
   },
   "outputs": [
    {
     "name": "stdout",
     "output_type": "stream",
     "text": [
      "Model: \"model_concat\"\n",
      "__________________________________________________________________________________________________\n",
      " Layer (type)                Output Shape                 Param #   Connected to                  \n",
      "==================================================================================================\n",
      " input_1 (InputLayer)        [(None, 16, 16, 3)]          0         []                            \n",
      "                                                                                                  \n",
      " max_pooling2d (MaxPooling2  (None, 8, 8, 3)              0         ['input_1[0][0]']             \n",
      " D)                                                                                               \n",
      "                                                                                                  \n",
      " flatten (Flatten)           (None, 192)                  0         ['max_pooling2d[0][0]']       \n",
      "                                                                                                  \n",
      " input_2 (InputLayer)        [(None, 62)]                 0         []                            \n",
      "                                                                                                  \n",
      " dense (Dense)               (None, 30)                   5790      ['flatten[0][0]']             \n",
      "                                                                                                  \n",
      " dense_3 (Dense)             (None, 62)                   3906      ['input_2[0][0]']             \n",
      "                                                                                                  \n",
      " dense_1 (Dense)             (None, 30)                   930       ['dense[0][0]']               \n",
      "                                                                                                  \n",
      " dense_4 (Dense)             (None, 30)                   1890      ['dense_3[0][0]']             \n",
      "                                                                                                  \n",
      " concatenate (Concatenate)   (None, 60)                   0         ['dense_1[0][0]',             \n",
      "                                                                     'dense_4[0][0]']             \n",
      "                                                                                                  \n",
      " dense_5 (Dense)             (None, 3)                    183       ['concatenate[0][0]']         \n",
      "                                                                                                  \n",
      "==================================================================================================\n",
      "Total params: 12699 (49.61 KB)\n",
      "Trainable params: 12699 (49.61 KB)\n",
      "Non-trainable params: 0 (0.00 Byte)\n",
      "__________________________________________________________________________________________________\n"
     ]
    },
    {
     "data": {
      "text/plain": [
       "None"
      ]
     },
     "metadata": {},
     "output_type": "display_data"
    }
   ],
   "source": [
    "concatenated = tf.keras.layers.concatenate([lay1_enc, tab_dense1]) # works better than convolutional\n",
    "\n",
    "dense_class = Dense(3, activation='sigmoid')(concatenated) # final layer with 3 neurons for classification\n",
    "\n",
    "model_concat = Model([lay1_input, tab_inputs], dense_class, name='model_concat')\n",
    "\n",
    "display(model_concat.summary())\n",
    "\n",
    "model_concat.compile(optimizer='adam',\n",
    "                     loss=tf.keras.losses.SparseCategoricalCrossentropy(from_logits=True),\n",
    "                     metrics=['accuracy'])"
   ]
  },
  {
   "cell_type": "code",
   "execution_count": 22,
   "id": "7407d826-a8dc-44b1-88d9-5c0e0f7a493a",
   "metadata": {
    "execution": {
     "iopub.execute_input": "2023-10-26T10:46:52.585795Z",
     "iopub.status.busy": "2023-10-26T10:46:52.585530Z",
     "iopub.status.idle": "2023-10-26T10:47:37.377030Z",
     "shell.execute_reply": "2023-10-26T10:47:37.376113Z",
     "shell.execute_reply.started": "2023-10-26T10:46:52.585774Z"
    },
    "tags": []
   },
   "outputs": [
    {
     "name": "stdout",
     "output_type": "stream",
     "text": [
      "Epoch 1/10\n",
      "2009/2009 [==============================] - 5s 2ms/step - loss: 0.0979 - accuracy: 0.9705\n",
      "Epoch 2/10\n",
      "2009/2009 [==============================] - 4s 2ms/step - loss: 0.0485 - accuracy: 0.9852\n",
      "Epoch 3/10\n",
      "2009/2009 [==============================] - 4s 2ms/step - loss: 0.0452 - accuracy: 0.9862\n",
      "Epoch 4/10\n",
      "2009/2009 [==============================] - 4s 2ms/step - loss: 0.0429 - accuracy: 0.9868\n",
      "Epoch 5/10\n",
      "2009/2009 [==============================] - 4s 2ms/step - loss: 0.0411 - accuracy: 0.9874\n",
      "Epoch 6/10\n",
      "2009/2009 [==============================] - 4s 2ms/step - loss: 0.0389 - accuracy: 0.9881\n",
      "Epoch 7/10\n",
      "2009/2009 [==============================] - 4s 2ms/step - loss: 0.0380 - accuracy: 0.9884\n",
      "Epoch 8/10\n",
      "2009/2009 [==============================] - 4s 2ms/step - loss: 0.0365 - accuracy: 0.9883\n",
      "Epoch 9/10\n",
      "2009/2009 [==============================] - 4s 2ms/step - loss: 0.0357 - accuracy: 0.9884\n",
      "Epoch 10/10\n",
      "2009/2009 [==============================] - 4s 2ms/step - loss: 0.0341 - accuracy: 0.9896\n"
     ]
    },
    {
     "data": {
      "text/plain": [
       "[0.06555768847465515, 0.9820953607559204]"
      ]
     },
     "metadata": {},
     "output_type": "display_data"
    }
   ],
   "source": [
    "history = model_concat.fit([X_train_image, X_train.numpy()], y_train.numpy(), epochs=10)\n",
    "scores = model_concat.evaluate([X_test_image, X_test.numpy()], y_test.numpy(), verbose=0)\n",
    "display(scores)"
   ]
  },
  {
   "cell_type": "code",
   "execution_count": 27,
   "id": "99723f26-1f84-443d-b9b7-2f59efea54ec",
   "metadata": {
    "execution": {
     "iopub.execute_input": "2023-10-26T10:51:26.087161Z",
     "iopub.status.busy": "2023-10-26T10:51:26.086129Z",
     "iopub.status.idle": "2023-10-26T10:51:30.274628Z",
     "shell.execute_reply": "2023-10-26T10:51:30.273755Z",
     "shell.execute_reply.started": "2023-10-26T10:51:26.087123Z"
    },
    "tags": []
   },
   "outputs": [
    {
     "name": "stdout",
     "output_type": "stream",
     "text": [
      "2009/2009 [==============================] - 3s 2ms/step\n"
     ]
    }
   ],
   "source": [
    "predictionsavic = np.argmax(model_concat.predict([X_test_image, X_test.numpy()]), axis=1)"
   ]
  },
  {
   "cell_type": "code",
   "execution_count": 28,
   "id": "c5c0f136-315d-4b9c-96da-83e8c1089443",
   "metadata": {
    "execution": {
     "iopub.execute_input": "2023-10-26T10:51:31.911650Z",
     "iopub.status.busy": "2023-10-26T10:51:31.910330Z",
     "iopub.status.idle": "2023-10-26T10:51:32.182914Z",
     "shell.execute_reply": "2023-10-26T10:51:32.182320Z",
     "shell.execute_reply.started": "2023-10-26T10:51:31.911619Z"
    },
    "tags": []
   },
   "outputs": [
    {
     "name": "stdout",
     "output_type": "stream",
     "text": [
      "[0.99121217 0.98099427 0.96826683]\n",
      "0.980850898343315\n"
     ]
    },
    {
     "data": {
      "text/plain": [
       "<sklearn.metrics._plot.confusion_matrix.ConfusionMatrixDisplay at 0x7f08c7046f50>"
      ]
     },
     "execution_count": 28,
     "metadata": {},
     "output_type": "execute_result"
    },
    {
     "data": {
      "image/png": "[encoded data removed]",
      "text/plain": [
       "<Figure size 640x480 with 2 Axes>"
      ]
     },
     "metadata": {},
     "output_type": "display_data"
    }
   ],
   "source": [
    "cf = confusion_matrix(y_test, predictionsavic, normalize = \"true\")\n",
    "\n",
    "str_labels = ['Star', 'Gal', 'Qso/Agn']\n",
    "accuracy = cf.diagonal()/cf.sum(axis=1)\n",
    "print(accuracy)\n",
    "print(accuracy_score(y_test, predictions))\n",
    "ConfusionMatrixDisplay(cf, display_labels=str_labels).plot()"
   ]
  },
  {
   "cell_type": "code",
   "execution_count": null,
   "id": "ab3ebac6-c6ae-46fc-8904-637d1677c9ef",
   "metadata": {},
   "outputs": [],
   "source": []
  }
 ],
 "metadata": {
  "kernelspec": {
   "display_name": "LSST",
   "language": "python",
   "name": "lsst"
  },
  "language_info": {
   "codemirror_mode": {
    "name": "ipython",
    "version": 3
   },
   "file_extension": ".py",
   "mimetype": "text/x-python",
   "name": "python",
   "nbconvert_exporter": "python",
   "pygments_lexer": "ipython3",
   "version": "3.11.7"
  }
 },
 "nbformat": 4,
 "nbformat_minor": 5
}
